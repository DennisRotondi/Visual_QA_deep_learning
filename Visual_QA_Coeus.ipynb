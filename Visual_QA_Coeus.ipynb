{
 "cells": [
  {
   "cell_type": "markdown",
   "metadata": {},
   "source": [
    "# Visual QA, Coeus\n",
    "<center><img src='https://imgur.com/vpMkNww.jpg'></center>\n",
    "Project for the deep learning course 2021/2022 held by professor Fabrizio Silvestri. \n",
    "\n",
    "Since the choosen task is about **Visual Question Answering** we've picked a mythical and distinctive name for the project, ***COEUS***. \n",
    "\n",
    "\n",
    "> ⚡ In Greek mythology, Coeus (*from Ancient Greek: Κοῖος, Koios, \"query, questioning\" or \"intelligence\"*)  was one of the Titans."
   ]
  },
  {
   "cell_type": "markdown",
   "metadata": {},
   "source": [
    "## Colab integration"
   ]
  },
  {
   "cell_type": "markdown",
   "metadata": {},
   "source": [
    "We produced the code using a local environment in vscode. To make it works with colab, after cloning the github repository, we also had to reduce the size of the dataset (10000->7000, or we must buy colab-pro for higher ram), reduce the number of workers (8->2) and remove the \"pin memory\" property of the dataloader (True->False)."
   ]
  },
  {
   "cell_type": "code",
   "execution_count": 1,
   "metadata": {},
   "outputs": [],
   "source": [
    "local_project = True\n",
    "if not local_project:\n",
    "    !git clone https://github.com/DennisRotondi/Visual_QA_deep_learning\n",
    "    !pip3 install -r Visual_QA_deep_learning/requirements.txt\n",
    "    %cd Visual_QA_deep_learning/datasets\n",
    "    !bash download_dataset.sh\n",
    "    !rm *.zip\n",
    "    #we restart the runtime to load the new libraries\n",
    "    exit()"
   ]
  },
  {
   "cell_type": "code",
   "execution_count": 2,
   "metadata": {},
   "outputs": [
    {
     "name": "stdout",
     "output_type": "stream",
     "text": [
      "[Errno 2] No such file or directory: 'Visual_QA_deep_learning'\n",
      "/home/dennis/Desktop/Visual_QA_deep_learning\n"
     ]
    }
   ],
   "source": [
    "# after exiting the runtime is roleaded and we need to re-define this variable\n",
    "local_project = True\n",
    "# this is the last thing to do, it allows to have coherent relative paths wrt the local env \n",
    "%cd Visual_QA_deep_learning"
   ]
  },
  {
   "cell_type": "markdown",
   "metadata": {},
   "source": [
    "## Import and reproducibility stuff"
   ]
  },
  {
   "cell_type": "code",
   "execution_count": 3,
   "metadata": {},
   "outputs": [
    {
     "name": "stderr",
     "output_type": "stream",
     "text": [
      "Global seed set to 0\n"
     ]
    }
   ],
   "source": [
    "import copy\n",
    "import csv\n",
    "import datetime\n",
    "import json\n",
    "import matplotlib.pyplot as plt\n",
    "import numpy as np\n",
    "import os\n",
    "import pytorch_lightning as pl\n",
    "import random\n",
    "import re\n",
    "import torch\n",
    "import torch.nn.functional as F\n",
    "from PIL import Image\n",
    "from collections import OrderedDict, Counter\n",
    "from dataclasses import dataclass, asdict\n",
    "from os import path\n",
    "from pytorch_lightning import Trainer\n",
    "from pytorch_lightning.callbacks import ModelCheckpoint\n",
    "from pytorch_lightning.callbacks.early_stopping import EarlyStopping\n",
    "from pytorch_lightning.loggers import CSVLogger\n",
    "from torch import nn, optim\n",
    "from torch.nn.utils.rnn import pad_sequence\n",
    "from torch.optim.lr_scheduler import ReduceLROnPlateau\n",
    "from torch.utils.data import DataLoader, Dataset\n",
    "from torchvision import models\n",
    "from torchvision import transforms\n",
    "from tqdm import tqdm\n",
    "from transformers import ViltProcessor, ViltForQuestionAnswering, ViltModel\n",
    "from typing import Tuple, List, Any, Dict, Optional\n",
    "os.environ['TOKENIZERS_PARALLELISM'] = \"false\" # to avoid deadlock at traning time for the tokenizer\n",
    "# it's important to have reproducible experiment, to this purpose we seeded everything is seedable\n",
    "np.random.seed(0)\n",
    "random.seed(0)\n",
    "torch.cuda.manual_seed(0)\n",
    "torch.manual_seed(0)\n",
    "# Note that this Deterministic mode can have a performance impact\n",
    "torch.backends.cudnn.deterministic = True\n",
    "torch.backends.cudnn.benchmark = False\n",
    "_ = pl.seed_everything(0)\n"
   ]
  },
  {
   "cell_type": "markdown",
   "metadata": {},
   "source": [
    "## Data Preprocessing"
   ]
  },
  {
   "cell_type": "markdown",
   "metadata": {},
   "source": [
    "The first step is to read and preprocess the dataset. The input has been processed accordingly to the following rules:\n",
    "\n",
    "*   Making all characters lowercase;\n",
    "*   Removing periods except if it occurs as decimal;\n",
    "*   Converting number words to digits;\n",
    "*   Removing articles (*a*, *an*, *the*);\n",
    "*   Adding apostrophe if a contraction is missing it (e.g., convert *”dont”* to *”don’t”*);\n",
    "*   Replacing all punctuation (except *apostrophe* and *colon*) with a space character.\n",
    "\n",
    "In such a way it's also possible to have an utility to preprocess sentences when complex solution that produce \"not processed\" words is engaged. <br> \n",
    "Note that those steps are required at evaluation time to compute the correct metric!"
   ]
  },
  {
   "cell_type": "code",
   "execution_count": 4,
   "metadata": {},
   "outputs": [],
   "source": [
    "# this code comes partially from the original implementation https://github.com/GT-Vision-Lab/VQA,\n",
    "# it helps in reading the json files from the dataset and creating a class to quickly retrieve the\n",
    "# annotations of each <question, image> pair. Here we also perform the preprocessing needed for\n",
    "# evaluation, these changes affect the vocabularies (using more advanced embeddings like bert-uncased\n",
    "# is very useful to have \"uncased\" words for example),\n",
    "class VQA:\n",
    "\tdef __init__(self, annotations_file: str, questions_file: str, images_semi_path: str, remove_mult_ans: bool, limit_size: int):\n",
    "\t\tself.proprocess_init()\n",
    "\t\t# we load the answer and the question json file\n",
    "\t\tdataset = json.load(open(annotations_file, 'r'))\n",
    "\t\tquestions = json.load(open(questions_file, 'r'))\n",
    "\t\t# 'qa' and 'qqa' will be the dictionaries where the output of the preprocessing step will be saved!\n",
    "\t\tqa = dict()\n",
    "\t\tqqa = dict()\n",
    "\t\t# total number of questions\n",
    "\t\tself.n_tot = 0\n",
    "\t\t# number of answers with more than a word\n",
    "\t\tself.n_mul = 0\n",
    "\t\t# counter for the length of each answer, to understand if a baseline that produce one-word ans is feasible\n",
    "\t\tself.c_len = Counter()\n",
    "\t\t###############################  PREPROCESSING  ####################################\n",
    "\t\tfor ann in dataset['annotations']:\n",
    "\t\t\tself.n_tot += 1\n",
    "\t\t\tif self.n_tot > limit_size:\n",
    "\t\t\t\tbreak\n",
    "\t\t\tqid = ann['question_id']\n",
    "\t\t\tqatmp = ann\n",
    "\t\t\tqatmp[\"multiple_choice_answer\"] = self.preprocess(\n",
    "\t\t\t\tqatmp[\"multiple_choice_answer\"])\n",
    "\t\t\tln = len(qatmp[\"multiple_choice_answer\"].split())\n",
    "\t\t\tself.c_len.update([ln])\n",
    "\t\t\tif ln > 1:\n",
    "\t\t\t\tself.n_mul += 1\n",
    "\t\t\t\tif remove_mult_ans:\n",
    "\t\t\t\t\tcontinue\n",
    "\t\t\tqa[qid] = qatmp\n",
    "\t\t\tfor i in range(10):\n",
    "\t\t\t\tqa[qid][\"answers\"][i][\"answer\"] = self.preprocess(\n",
    "\t\t\t\t\tqa[qid][\"answers\"][i][\"answer\"])\n",
    "\t\tfor ques in questions['questions']:\n",
    "\t\t\tqid = ques['question_id']\n",
    "\t\t\tif qa.get(qid, \"N\") == \"N\":\n",
    "\t\t\t\tcontinue\n",
    "\t\t\tqqa[qid] = ques\n",
    "\t\t\tqqa[qid][\"question\"] = self.preprocess(qqa[qid][\"question\"])\n",
    "\t\t#######################################################################################\n",
    "\t\tself.qa = qa\n",
    "\t\tself.qqa = qqa\n",
    "\t\tself.images_semi_path = images_semi_path\n",
    "\n",
    "\tdef get_img_from_id(self, img_id):\n",
    "\t\tids = str(img_id)\n",
    "\t\t# small trick to retrive the path from the id\n",
    "\t\treturn self.images_semi_path+\"0\"*(12-len(ids))+ids+\".jpg\"\n",
    "\n",
    "\tdef proprocess_init(self):\n",
    "\t\t# this function just set the utilities for the preprocessing\n",
    "\t\tself.contractions = {\"aint\": \"ain't\", \"arent\": \"aren't\", \"cant\": \"can't\", \"couldve\": \"could've\", \"couldnt\": \"couldn't\",\n",
    "\t\t\t\t\t\t\"couldn'tve\": \"couldn't've\", \"couldnt've\": \"couldn't've\", \"didnt\": \"didn't\", \"doesnt\": \"doesn't\", \"dont\": \"don't\", \"hadnt\": \"hadn't\",\n",
    "\t\t\t\t\t\t\"hadnt've\": \"hadn't've\", \"hadn'tve\": \"hadn't've\", \"hasnt\": \"hasn't\", \"havent\": \"haven't\", \"hed\": \"he'd\", \"hed've\": \"he'd've\",\n",
    "\t\t\t\t\t\t\"he'dve\": \"he'd've\", \"hes\": \"he's\", \"howd\": \"how'd\", \"howll\": \"how'll\", \"hows\": \"how's\", \"Id've\": \"I'd've\", \"I'dve\": \"I'd've\",\n",
    "\t\t\t\t\t\t\"Im\": \"I'm\", \"Ive\": \"I've\", \"isnt\": \"isn't\", \"itd\": \"it'd\", \"itd've\": \"it'd've\", \"it'dve\": \"it'd've\", \"itll\": \"it'll\", \"let's\": \"let's\",\n",
    "\t\t\t\t\t\t\"maam\": \"ma'am\", \"mightnt\": \"mightn't\", \"mightnt've\": \"mightn't've\", \"mightn'tve\": \"mightn't've\", \"mightve\": \"might've\",\n",
    "\t\t\t\t\t\t\"mustnt\": \"mustn't\", \"mustve\": \"must've\", \"neednt\": \"needn't\", \"notve\": \"not've\", \"oclock\": \"o'clock\", \"oughtnt\": \"oughtn't\",\n",
    "\t\t\t\t\t\t\"ow's'at\": \"'ow's'at\", \"'ows'at\": \"'ow's'at\", \"'ow'sat\": \"'ow's'at\", \"shant\": \"shan't\", \"shed've\": \"she'd've\", \"she'dve\": \"she'd've\",\n",
    "\t\t\t\t\t\t\"she's\": \"she's\", \"shouldve\": \"should've\", \"shouldnt\": \"shouldn't\", \"shouldnt've\": \"shouldn't've\", \"shouldn'tve\": \"shouldn't've\",\n",
    "\t\t\t\t\t\t\"somebody'd\": \"somebodyd\", \"somebodyd've\": \"somebody'd've\", \"somebody'dve\": \"somebody'd've\", \"somebodyll\": \"somebody'll\",\n",
    "\t\t\t\t\t\t\"somebodys\": \"somebody's\", \"someoned\": \"someone'd\", \"someoned've\": \"someone'd've\", \"someone'dve\": \"someone'd've\",\n",
    "\t\t\t\t\t\t\"someonell\": \"someone'll\", \"someones\": \"someone's\", \"somethingd\": \"something'd\", \"somethingd've\": \"something'd've\",\n",
    "\t\t\t\t\t\t\"something'dve\": \"something'd've\", \"somethingll\": \"something'll\", \"thats\": \"that's\", \"thered\": \"there'd\", \"thered've\": \"there'd've\",\n",
    "\t\t\t\t\t\t\"there'dve\": \"there'd've\", \"therere\": \"there're\", \"theres\": \"there's\", \"theyd\": \"they'd\", \"theyd've\": \"they'd've\",\n",
    "\t\t\t\t\t\t\"they'dve\": \"they'd've\", \"theyll\": \"they'll\", \"theyre\": \"they're\", \"theyve\": \"they've\", \"twas\": \"'twas\", \"wasnt\": \"wasn't\",\n",
    "\t\t\t\t\t\t\"wed've\": \"we'd've\", \"we'dve\": \"we'd've\", \"weve\": \"we've\", \"werent\": \"weren't\", \"whatll\": \"what'll\", \"whatre\": \"what're\",\n",
    "\t\t\t\t\t\t\"whats\": \"what's\", \"whatve\": \"what've\", \"whens\": \"when's\", \"whered\": \"where'd\", \"wheres\": \"where's\", \"whereve\": \"where've\",\n",
    "\t\t\t\t\t\t\"whod\": \"who'd\", \"whod've\": \"who'd've\", \"who'dve\": \"who'd've\", \"wholl\": \"who'll\", \"whos\": \"who's\", \"whove\": \"who've\", \"whyll\": \"why'll\",\n",
    "\t\t\t\t\t\t\"whyre\": \"why're\", \"whys\": \"why's\", \"wont\": \"won't\", \"wouldve\": \"would've\", \"wouldnt\": \"wouldn't\", \"wouldnt've\": \"wouldn't've\",\n",
    "\t\t\t\t\t\t\"wouldn'tve\": \"wouldn't've\", \"yall\": \"y'all\", \"yall'll\": \"y'all'll\", \"y'allll\": \"y'all'll\", \"yall'd've\": \"y'all'd've\",\n",
    "\t\t\t\t\t\t\"y'alld've\": \"y'all'd've\", \"y'all'dve\": \"y'all'd've\", \"youd\": \"you'd\", \"youd've\": \"you'd've\", \"you'dve\": \"you'd've\",\n",
    "\t\t\t\t\t\t\"youll\": \"you'll\", \"youre\": \"you're\", \"youve\": \"you've\"}\n",
    "\t\tself.manualMap = {'none': '0',\n",
    "\t\t\t\t\t'zero': '0',\n",
    "\t\t\t\t\t'one': '1',\n",
    "\t\t\t\t\t'two': '2',\n",
    "\t\t\t\t\t'three': '3',\n",
    "\t\t\t\t\t'four': '4',\n",
    "\t\t\t\t\t'five': '5',\n",
    "\t\t\t\t\t'six': '6',\n",
    "\t\t\t\t\t'seven': '7',\n",
    "\t\t\t\t\t'eight': '8',\n",
    "\t\t\t\t\t'nine': '9',\n",
    "\t\t\t\t\t'ten': '10'\n",
    "\t\t\t\t\t}\n",
    "\t\tself.articles = ['a', 'an', 'the']\n",
    "\t\tself.periodStrip = re.compile(\"(?!<=\\d)(\\.)(?!\\d)\")\n",
    "\t\tself.commaStrip = re.compile(\"(\\d)(\\,)(\\d)\")\n",
    "\t\tself.punct = [';', r\"/\", '[', ']', '\"', '{', '}',\n",
    "\t\t\t\t\t\t'(', ')', '=', '+', '\\\\', '_', '-',\n",
    "\t\t\t\t\t\t'>', '<', '@', '`', ',', '?', '!']\n",
    "\n",
    "\tdef preprocess(self, sentence):\n",
    "\t\tsentence = sentence.lower()\n",
    "\t\tsentence = sentence.replace('\\n', ' ')\n",
    "\t\tsentence = sentence.replace('\\t', ' ')\n",
    "\t\tsentence = sentence.strip()\n",
    "\t\tls = sentence.split()\n",
    "\t\tws = []\n",
    "\t\tfor w in ls:\n",
    "\t\t\tw = self.processPunctuation(w)\n",
    "\t\t\tw = self.processDigitArticle(w)\n",
    "\t\t\tws += [w]\n",
    "\t\treturn \" \".join(ws)\n",
    "\n",
    "\tdef processPunctuation(self, inText):\n",
    "\t\toutText = inText\n",
    "\t\tfor p in self.punct:\n",
    "\t\t\tif (p + ' ' in inText or ' ' + p in inText) or (re.search(self.commaStrip, inText) != None):\n",
    "\t\t\t\toutText = outText.replace(p, '')\n",
    "\t\t\telse:\n",
    "\t\t\t\toutText = outText.replace(p, ' ')\n",
    "\t\toutText = self.periodStrip.sub(\"\",\n",
    "                                 outText,\n",
    "                                 re.UNICODE)\n",
    "\t\treturn outText\n",
    "\n",
    "\tdef processDigitArticle(self, inText):\n",
    "\t\toutText = []\n",
    "\t\ttempText = inText.lower().split()\n",
    "\t\tfor word in tempText:\n",
    "\t\t\tword = self.manualMap.setdefault(word, word)\n",
    "\t\t\tif word not in self.articles:\n",
    "\t\t\t\toutText.append(word)\n",
    "\t\t\telse:\n",
    "\t\t\t\tpass\n",
    "\t\tfor wordId, word in enumerate(outText):\n",
    "\t\t\tif word in self.contractions:\n",
    "\t\t\t\toutText[wordId] = self.contractions[word]\n",
    "\t\toutText = ' '.join(outText)\n",
    "\t\treturn outText\n",
    "\n",
    "\n",
    "# Input json files for the VQA class\n",
    "annotations_file = \"datasets/v2_mscoco_train2014_annotations.json\"\n",
    "questions_file = \"datasets/v2_OpenEnded_mscoco_train2014_questions.json\"\n",
    "images_semi_path = \"datasets/train2014/COCO_train2014_\"  # 000000000009.jpg\n",
    "# We give as input the semi path to the train images:\n",
    "# in this way we are able to easily retrieve the images thanks to the class function \"get_img_from_id\"\n",
    "# NOTE: we cannot use the whole dataset as it is with our limited hardware, therefore we limited \n",
    "# ourselves fixing a size of 10000 samples (on the local probject).\n",
    "train_VQA = VQA(annotations_file, questions_file,\n",
    "                images_semi_path, remove_mult_ans=True, limit_size=10000)\n",
    "\n",
    "# We also require to load the validation annotations and images, it will be useful later to test our models\n",
    "# NOTE: here we can't remove \"mult_ans\" since it would be like cheating during the evaluation\n",
    "annotations_file_val = \"datasets/v2_mscoco_val2014_annotations.json\"\n",
    "questions_file_val = \"datasets/v2_OpenEnded_mscoco_val2014_questions.json\"\n",
    "images_semi_path_val = \"datasets/val2014/COCO_val2014_\"\n",
    "val_VQA = VQA(annotations_file_val, questions_file_val, images_semi_path_val, remove_mult_ans=False, limit_size=1000)\n"
   ]
  },
  {
   "cell_type": "markdown",
   "metadata": {},
   "source": [
    "### View data\n"
   ]
  },
  {
   "cell_type": "markdown",
   "metadata": {},
   "source": [
    "Lets visualize the structure of our data, it would be useful to access correctly the different fields."
   ]
  },
  {
   "cell_type": "markdown",
   "metadata": {},
   "source": [
    "#### Answer sample"
   ]
  },
  {
   "cell_type": "code",
   "execution_count": 5,
   "metadata": {},
   "outputs": [
    {
     "data": {
      "text/plain": [
       "{'question_type': 'what animal is',\n",
       " 'multiple_choice_answer': 'dog',\n",
       " 'answers': [{'answer': 'bear', 'answer_confidence': 'yes', 'answer_id': 1},\n",
       "  {'answer': 'dog', 'answer_confidence': 'yes', 'answer_id': 2},\n",
       "  {'answer': 'dog', 'answer_confidence': 'yes', 'answer_id': 3},\n",
       "  {'answer': 'bear', 'answer_confidence': 'yes', 'answer_id': 4},\n",
       "  {'answer': 'dog', 'answer_confidence': 'maybe', 'answer_id': 5},\n",
       "  {'answer': 'dog', 'answer_confidence': 'yes', 'answer_id': 6},\n",
       "  {'answer': 'dog', 'answer_confidence': 'yes', 'answer_id': 7},\n",
       "  {'answer': 'dog', 'answer_confidence': 'yes', 'answer_id': 8},\n",
       "  {'answer': 'teddy bear', 'answer_confidence': 'yes', 'answer_id': 9},\n",
       "  {'answer': 'dog', 'answer_confidence': 'yes', 'answer_id': 10}],\n",
       " 'image_id': 309,\n",
       " 'answer_type': 'other',\n",
       " 'question_id': 309002}"
      ]
     },
     "execution_count": 5,
     "metadata": {},
     "output_type": "execute_result"
    }
   ],
   "source": [
    "# For example for the question id '309002'\n",
    "train_VQA.qa[309002]"
   ]
  },
  {
   "cell_type": "markdown",
   "metadata": {},
   "source": [
    "#### Question sample"
   ]
  },
  {
   "cell_type": "code",
   "execution_count": 6,
   "metadata": {},
   "outputs": [
    {
     "data": {
      "text/plain": [
       "{'image_id': 309, 'question': 'what animal is shown', 'question_id': 309002}"
      ]
     },
     "execution_count": 6,
     "metadata": {},
     "output_type": "execute_result"
    }
   ],
   "source": [
    "# For example for the question id '309002'\n",
    "train_VQA.qqa[309002]"
   ]
  },
  {
   "cell_type": "markdown",
   "metadata": {},
   "source": [
    "#### Image + question + answer\n",
    "\n",
    "The complete sample needed for our Visual QA task."
   ]
  },
  {
   "cell_type": "code",
   "execution_count": 7,
   "metadata": {},
   "outputs": [
    {
     "name": "stdout",
     "output_type": "stream",
     "text": [
      "QUESTION ID: 131366000\n",
      "\n",
      "datasets/train2014/COCO_train2014_000000131366.jpg\n",
      "\n"
     ]
    },
    {
     "data": {
      "image/png": "[encoded data removed]",
      "text/plain": [
       "<Figure size 432x288 with 1 Axes>"
      ]
     },
     "metadata": {
      "needs_background": "light"
     },
     "output_type": "display_data"
    },
    {
     "name": "stdout",
     "output_type": "stream",
     "text": [
      "QUESTION\n",
      "how many people are standing next to each other\n",
      "MOST COMMON ANSWER\n",
      "4\n"
     ]
    }
   ],
   "source": [
    "# let's see if it works\n",
    "q = 131366000\n",
    "print(\"QUESTION ID: {}\".format(q))\n",
    "print()\n",
    "img_id = train_VQA.qqa[q][\"image_id\"]\n",
    "img_pth = train_VQA.get_img_from_id(img_id)\n",
    "print(img_pth)\n",
    "print()\n",
    "\n",
    "img = Image.open(img_pth).convert('RGB')\n",
    "plt.imshow(img)\n",
    "plt.axis('off')\n",
    "plt.show()\n",
    "print(\"QUESTION\")\n",
    "print(train_VQA.qqa[q][\"question\"])\n",
    "print(\"MOST COMMON ANSWER\")\n",
    "print(train_VQA.qa[q][\"multiple_choice_answer\"])\n"
   ]
  },
  {
   "cell_type": "markdown",
   "metadata": {},
   "source": [
    "## Vocabulary\n",
    "We need a data structure to encode and decode the words we are going to feed up our Deep Learning Model, this structure is the vocabulary under the form of a python dictionry.\n",
    "We've built a vocabulary of size **1000** with two extra tokens which are used for: **OOV** (*out of vocabulary*) and **padding** (to have the same tensor size at training time for the neural network) both for questions and answers."
   ]
  },
  {
   "cell_type": "code",
   "execution_count": 8,
   "metadata": {},
   "outputs": [
    {
     "name": "stdout",
     "output_type": "stream",
     "text": [
      "10 most common words for questions: \n",
      "[('is', 5730), ('what', 3761), ('are', 2264), ('this', 1817), ('in', 1460), ('on', 1336), ('of', 1222), ('how', 1174), ('many', 1117), ('color', 1017)]\n",
      "\n",
      "10 most common words for answers: \n",
      "[('yes', 1930), ('no', 1761), ('1', 282), ('2', 241), ('white', 187), ('3', 170), ('0', 151), ('blue', 135), ('black', 135), ('red', 125)]\n",
      "\n",
      "Key of the word 'blue' is --> 7\n",
      "Word of the key '7' is obviously --> blue\n",
      "\n",
      "Where are the special tokens?\n",
      "Word in position 1000 --> OOV\n",
      "Word in position 1001 --> PAD\n"
     ]
    }
   ],
   "source": [
    "# Let's make the vocabs\n",
    "qst_v = Counter()\n",
    "ans_v = Counter()\n",
    "\n",
    "for k in train_VQA.qa:\n",
    "    qst_v.update(train_VQA.qqa[k][\"question\"].split())\n",
    "    ans_v.update(train_VQA.qa[k][\"multiple_choice_answer\"].split())\n",
    "\n",
    "# We print the most common words\n",
    "print(\"10 most common words for questions: \")\n",
    "print(qst_v.most_common(10))\n",
    "print()\n",
    "print(\"10 most common words for answers: \")\n",
    "print(ans_v.most_common(10))\n",
    "print()\n",
    "\n",
    "\n",
    "def build_vocab(counter, size):\n",
    "    w2id = {}\n",
    "    id2w = {}\n",
    "    for idx, (i, _) in enumerate(counter.most_common(size)):\n",
    "        w2id[i] = idx\n",
    "        id2w[idx] = i\n",
    "    w2id[\"OOV\"] = idx+1\n",
    "    id2w[idx+1] = \"OOV\"\n",
    "    w2id[\"PAD\"] = idx+2\n",
    "    id2w[idx+2] = \"PAD\"\n",
    "    return w2id, id2w\n",
    "\n",
    "\n",
    "# We set the vocabularies size as in the paper\n",
    "qv_size = 1000\n",
    "av_size = 1000\n",
    "\n",
    "qv_w2id, qv_id2w = build_vocab(qst_v, qv_size)\n",
    "av_w2id, av_id2w = build_vocab(ans_v, av_size)\n",
    "\n",
    "# Show the results\n",
    "print(\"Key of the word 'blue' is --> {}\".format(av_w2id[\"blue\"]))\n",
    "print(\"Word of the key '7' is obviously --> {}\".format(av_id2w[7]))\n",
    "print()\n",
    "# OOV and PAD\n",
    "print(\"Where are the special tokens?\")\n",
    "print(\"Word in position 1000 --> {}\".format(av_id2w[1000]))\n",
    "print(\"Word in position 1001 --> {}\".format(av_id2w[1001]))\n"
   ]
  },
  {
   "cell_type": "markdown",
   "metadata": {},
   "source": [
    "## Statistics of the dataset "
   ]
  },
  {
   "cell_type": "markdown",
   "metadata": {},
   "source": [
    "We want to do some research on the statistics of our dataset, in particular we're interested in:\n",
    "\n",
    "1.   Percentage of number of words for all the answers.\n",
    "2.   Count of the most predominant words in questions.\n",
    "3.   Count of the most predominant words in answers.\n",
    "4.   Percentage of words used in answers and questions that are in the vocabulary.\n",
    "\n",
    "\n",
    "\n",
    "> 💡 Two of this results are particularly interesting for the choices we made. \n",
    "Following *result 1* we discovered that only **8%** of the answers have more then one word, thus we only kept the answers with one word.\n",
    "*Statistic 4* is also very interesting since it shows that around **85%** of questions and answers are whithin our vocabulary, so the size 1000 is perfectly fine.\n"
   ]
  },
  {
   "cell_type": "code",
   "execution_count": 9,
   "metadata": {},
   "outputs": [],
   "source": [
    "def one_group_bar(columns, data, title, percentage=True):\n",
    "  labels = columns\n",
    "  data = data[0]\n",
    "  color_list = []\n",
    "  for _ in range(len(data)):\n",
    "    color = [random.randrange(\n",
    "        0, 1)/255, random.randrange(0, 255)/255, random.randrange(0, 255)/255, 1]\n",
    "    color_list.append(color)\n",
    "  x = np.arange(len(labels))\n",
    "  width = 0.5  # the width of the bars\n",
    "  fig, ax = plt.subplots(figsize=(12, 5), layout='constrained')\n",
    "  rects = ax.bar(x, data, width, color=color_list)\n",
    "  # Add some text for labels, title and custom x-axis tick labels, etc.\n",
    "  ax.set_title(title)\n",
    "  ax.set_xticks(x, labels)\n",
    "  if percentage:\n",
    "    rects_labels = [('%.2f' % i) + \"%\" for i in data]\n",
    "  else:\n",
    "    rects_labels = data\n",
    "  ax.bar_label(rects, rects_labels, padding=3)\n"
   ]
  },
  {
   "cell_type": "code",
   "execution_count": 10,
   "metadata": {},
   "outputs": [
    {
     "data": {
      "image/png": "[encoded data removed]",
      "text/plain": [
       "<Figure size 864x360 with 1 Axes>"
      ]
     },
     "metadata": {
      "needs_background": "light"
     },
     "output_type": "display_data"
    }
   ],
   "source": [
    "total_number_questions = train_VQA.n_tot\n",
    "number_questions_more_one_word = train_VQA.n_mul\n",
    "number_questions_one_word = total_number_questions - number_questions_more_one_word\n",
    "## 1: Percentage of number of words for all the answers\n",
    "columns = sorted([e+1 for e in list(train_VQA.c_len.keys())])\n",
    "table_data = list(train_VQA.c_len.values())\n",
    "table_data_percentage = []\n",
    "table_data_percentage.append([(elem/total_number_questions)*100 for elem in table_data])\n",
    "one_group_bar(columns, table_data_percentage, \"Percentage of number of words for all the answers\")"
   ]
  },
  {
   "cell_type": "code",
   "execution_count": 11,
   "metadata": {},
   "outputs": [
    {
     "data": {
      "image/png": "[encoded data removed]",
      "text/plain": [
       "<Figure size 864x360 with 1 Axes>"
      ]
     },
     "metadata": {
      "needs_background": "light"
     },
     "output_type": "display_data"
    }
   ],
   "source": [
    "## 2: Percentage of number of words for all the answers\n",
    "columns = [\"1 word\", \"more than 1 word\"]\n",
    "table_data = [number_questions_one_word, number_questions_more_one_word]\n",
    "table_data_percentage = []\n",
    "table_data_percentage.append(\n",
    "    [(elem/total_number_questions)*100 for elem in table_data])\n",
    "one_group_bar(columns, table_data_percentage,\n",
    "              \"Percentage of number of words for all the answers\")\n"
   ]
  },
  {
   "cell_type": "code",
   "execution_count": 12,
   "metadata": {},
   "outputs": [
    {
     "data": {
      "image/png": "[encoded data removed]",
      "text/plain": [
       "<Figure size 864x360 with 1 Axes>"
      ]
     },
     "metadata": {
      "needs_background": "light"
     },
     "output_type": "display_data"
    }
   ],
   "source": [
    "## 3: Count of the most predominant words in questions\n",
    "q_most_common_words = qst_v.most_common(10)\n",
    "columns = [e[0] for e in q_most_common_words]\n",
    "table_data = [e[1] for e in q_most_common_words]\n",
    "one_group_bar(columns, [table_data], \"Count of the most predominant words in questions\", False)"
   ]
  },
  {
   "cell_type": "code",
   "execution_count": 13,
   "metadata": {},
   "outputs": [
    {
     "data": {
      "image/png": "[encoded data removed]",
      "text/plain": [
       "<Figure size 864x360 with 1 Axes>"
      ]
     },
     "metadata": {
      "needs_background": "light"
     },
     "output_type": "display_data"
    }
   ],
   "source": [
    "## 4: Count of the most predominant words in answers \n",
    "a_most_common_words = ans_v.most_common(10)\n",
    "columns = [e[0] for e in a_most_common_words]\n",
    "table_data = [e[1] for e in a_most_common_words]\n",
    "table_data_percentage = []\n",
    "table_data_percentage.append([(elem/total_number_questions)*100 for elem in table_data])\n",
    "one_group_bar(columns, [table_data], \"Count of the most predominant words in answers\", False)"
   ]
  },
  {
   "cell_type": "code",
   "execution_count": 14,
   "metadata": {},
   "outputs": [
    {
     "data": {
      "image/png": "[encoded data removed]",
      "text/plain": [
       "<Figure size 864x360 with 1 Axes>"
      ]
     },
     "metadata": {
      "needs_background": "light"
     },
     "output_type": "display_data"
    }
   ],
   "source": [
    "## 5: Percentage of words used in answers and questions that are in the vocabulary\n",
    "l = [e[0] for e in ans_v.most_common(1000)]\n",
    "number_words_in_most_common_ans = 0\n",
    "for (_, ann) in list(train_VQA.qa.items()):\n",
    "  if ann[\"multiple_choice_answer\"] in l:\n",
    "    number_words_in_most_common_ans += 1\n",
    "l = [e[0] for e in qst_v.most_common(1000)]\n",
    "number_words_in_most_common_qst = 0\n",
    "total_number_words = 0\n",
    "list(train_VQA.qqa.items())\n",
    "for (_, qst) in list(train_VQA.qqa.items()):\n",
    "  for w in qst[\"question\"].split(\" \"):\n",
    "    total_number_words += 1\n",
    "    if w in l:\n",
    "      number_words_in_most_common_qst += 1\n",
    "column = [\"Answers\", \"Questions\", \"Average\"]\n",
    "table_data = [number_words_in_most_common_ans, number_words_in_most_common_qst]\n",
    "ans_value = number_words_in_most_common_ans/len(train_VQA.qa)\n",
    "qst_value = number_words_in_most_common_qst/total_number_words\n",
    "avg_v = (ans_value + qst_value) / 2\n",
    "table_data_percentage = [ans_value*100, qst_value*100, avg_v*100]\n",
    "one_group_bar(column, [table_data_percentage], \"Percentage of words used in answers and questions that are in the vocabulary\")"
   ]
  },
  {
   "cell_type": "markdown",
   "metadata": {},
   "source": [
    "## Utilities"
   ]
  },
  {
   "cell_type": "code",
   "execution_count": 42,
   "metadata": {},
   "outputs": [],
   "source": [
    "# this function implements the requested metric to evaluate our model\n",
    "def evaluate_performances(model, data, on_train_set: bool, need_device: bool = True):\n",
    "    device = \"cuda\" if torch.cuda.is_available() else \"cpu\"\n",
    "    model.to(device)\n",
    "    dataset = data.train_dataloader() if on_train_set else data.val_dataloader()\n",
    "    vqa = data.train_VQA if on_train_set else data.val_VQA\n",
    "    # decode utility\n",
    "    av_id2w = data.av_id2w\n",
    "    it_data = iter(dataset)\n",
    "    ans_types = Counter()\n",
    "    scores = dict()\n",
    "    for batch in tqdm(it_data):\n",
    "        if need_device:\n",
    "            batch[\"question\"]=batch[\"question\"].to(device)\n",
    "            batch[\"img\"]=batch[\"img\"].to(device)\n",
    "        pred = model.predict(batch)\n",
    "        for id, pred in zip(pred[\"id\"],pred[\"pred\"]):\n",
    "            ann = vqa.qa[id]\n",
    "            ans_types.update([ann[\"answer_type\"]])\n",
    "            score = 0\n",
    "            pred_ans = av_id2w.get(pred)\n",
    "            for ans in ann[\"answers\"]:\n",
    "                answer = ans[\"answer\"]\n",
    "                if answer == pred_ans:\n",
    "                    score+=1\n",
    "                    # just for efficiency reasons\n",
    "                    if score>2:\n",
    "                        break\n",
    "            scores[ann[\"answer_type\"]] = scores.get(ann[\"answer_type\"],0) + min([score/3,1])\n",
    "    # print the final statisics\n",
    "    print(\"There are: (type, number)\")\n",
    "    tot_q = 0\n",
    "    tot_s = 0\n",
    "    for k in ans_types:\n",
    "        tot_q+=ans_types[k]\n",
    "        print(k+\" \"+str(ans_types[k]))\n",
    "        tot_s+=scores[k]\n",
    "        print(\"with score: \"+str(scores[k]/ans_types[k]))\n",
    "    print(\"Final score: \"+str(tot_s/tot_q))\n",
    "    return ans_types, scores"
   ]
  },
  {
   "cell_type": "code",
   "execution_count": 16,
   "metadata": {},
   "outputs": [],
   "source": [
    "# this function allow to show the prediction on a list of ids taken from the train/dev set\n",
    "def print_item_pred(data, model, ids:list, on_train_set:bool, need_device: bool = True):\n",
    "    dataset = data.train_dataloader() if on_train_set else data.val_dataloader()\n",
    "    vqa = data.train_VQA if on_train_set else data.val_VQA\n",
    "    device = \"cuda\" if torch.cuda.is_available() else \"cpu\"\n",
    "    model.to(device)\n",
    "    it_data = iter(dataset)\n",
    "    av_id2w = data.av_id2w\n",
    "    for batch in it_data:\n",
    "        if len(ids)==0:\n",
    "            break\n",
    "        if need_device:\n",
    "            batch[\"question\"]=batch[\"question\"].to(device)\n",
    "            batch[\"img\"]=batch[\"img\"].to(device)\n",
    "        pred = model.predict(batch)\n",
    "        for id, pred in zip(pred[\"id\"],pred[\"pred\"]):\n",
    "            if id in ids:\n",
    "                ids.remove(id)\n",
    "                question = vqa.qqa[id][\"question\"]\n",
    "                answer = vqa.qa[id][\"multiple_choice_answer\"]\n",
    "                img_id = vqa.qqa[id][\"image_id\"]\n",
    "                img_pth = vqa.get_img_from_id(img_id)\n",
    "                img = Image.open(img_pth).convert('RGB')\n",
    "                plt.imshow(img)\n",
    "                plt.axis('off')\n",
    "                plt.show()\n",
    "                print(\"QUESTION\")\n",
    "                print(question)\n",
    "                print(\"MOST COMMON ANSWER\")\n",
    "                print(answer)\n",
    "                print(\"PREDICTED ANSWER\")\n",
    "                print(av_id2w.get(pred))   "
   ]
  },
  {
   "cell_type": "code",
   "execution_count": 54,
   "metadata": {},
   "outputs": [],
   "source": [
    "# this function is very helpful and allows to compare a list of models on a list of chosen metrics\n",
    "def plot_multiple(metrics: List[str], models: List[str]):\n",
    "    model_dict = dict()\n",
    "    for model in models:\n",
    "        metric_dict = dict()\n",
    "        with open('logs/'+model+\"/metrics.csv\", mode='r') as csv_file:\n",
    "            csv_reader = csv.DictReader(csv_file, delimiter=',')\n",
    "            for row in csv_reader:\n",
    "                # intersection between key of the dict and metric in metrics\n",
    "                for k in [keys for keys in row.keys() if keys in metrics]:\n",
    "                    if row[k] == '':\n",
    "                        continue\n",
    "                    metric_dict[k] = metric_dict.get(k,[])+[float(row[k])]\n",
    "        model_dict[model] = metric_dict\n",
    "    colors = dict()\n",
    "    for metric in metrics:\n",
    "        plt.figure(figsize=(10, 10))\n",
    "        for model in model_dict:\n",
    "            X=np.arange(len(model_dict[model][metric]))\n",
    "            colors[model] = colors.get(model, [random.randrange(0, 255)/255, random.randrange(0, 255)/255, random.randrange(0, 255)/255, 1])\n",
    "            plt.plot(X, model_dict[model][metric], color=colors[model], label=model, lw = 3)\n",
    "        plt.xlabel(\"epoch\")\n",
    "        plt.ylabel(metric)\n",
    "        plt.title(\"Comparison of different models for \"+metric)\n",
    "        plt.legend()\n",
    "        plt.grid()\n",
    "        plt.show()\n",
    "    return model_dict"
   ]
  },
  {
   "cell_type": "markdown",
   "metadata": {},
   "source": [
    "## Baseline"
   ]
  },
  {
   "cell_type": "markdown",
   "metadata": {},
   "source": [
    "In the following snippet of code we have the definition of a data class which we use to collect all the hyperparameters of our model. <br>\n",
    "We'll now go through some of these hyperparametrs with the idea of explaining more in detail why they are so important and what's their role in a deep learning model.\n",
    "* **batch_size** <br>\n",
    "  The dimension of the batch size it's very important since it defines the number of examples which are propagated through the network at each iteration.\n",
    "* **learning rate (lr)** <br>\n",
    "  To solve very complex and non linear tasks we have to use advanced methods like SGD. In order to update the weights at each step we need a direction and a step to perform. The bigger is the learning rate, the bigger is the step that we perform. This may look like an advantage, but it's not always the case; imagine that we are very close to the optimal solution with a big learning rate we would overshoot and pass the optimal solution. In our case, since we are using pretrained models we imposed a small learning rate.\n",
    "* **weight decay (wd)** <br> \n",
    "  Since the training dataset is very big and various we believe it would be very difficult to overfit. That's why we set weight decay to zero.\n",
    "* **dropout** <br>\n",
    "  The main idea is to train the model as an ensemble by randomly dropping some units at training time (at each iteration of SGD we are training a different model)."
   ]
  },
  {
   "cell_type": "code",
   "execution_count": null,
   "metadata": {},
   "outputs": [],
   "source": [
    "# here we define the data class to collect all the hyperparameters of our models, these are the parameters \n",
    "# that do not change by the optimization problem solved at each training step. (at most they are adapted to) \n",
    "@dataclass\n",
    "class HParams():\n",
    "    # dataset stuff\n",
    "    batch_size: int = 256\n",
    "    n_cpu: int = 8\n",
    "    qv_size: int = 1000 #+1 for oov +1 for pad\n",
    "    av_size: int = 1000 #+1 for oov +1 for pad\n",
    "    lr: int = 3e-4\n",
    "    wd: int = 0\n",
    "    word_emb_dim: int = 300 #output of the word-embedding\n",
    "    lstm_hidden_dim: int = 512\n",
    "    lstm_num_layers: int = 2\n",
    "    output_dim: int = 1024\n",
    "    bidirectional: bool = False\n",
    "    dropout: float = 0.3\n",
    "    trainable_embeddings: bool = True\n",
    "\n",
    "hparams = asdict(HParams())"
   ]
  },
  {
   "cell_type": "markdown",
   "metadata": {},
   "source": [
    "In the first part of our project we decided to implement [VQA: Visual Question Answering](https://arxiv.org/pdf/1505.00468.pdf) as a baseline. The aim of this part is to set a starting point that we will then compare to an advanced solution. The authors of the paper were among the first to tackle the problem of VQA thus we believe it's a good starting point for us.\n",
    "<br>In the following cell we create the dataset exploiting the *vocabulary* previously createtd and the \"*train_VQA.qa*\" and \"*train_VQA.qqa*\" dictionaries. \n",
    "> In particular we build for each question the *item* <**question**, **image**, **answer**> for the training phase. "
   ]
  },
  {
   "cell_type": "markdown",
   "metadata": {},
   "source": [
    "In order to have an unbiased evaluation of a model trained on a training set, we use a validation set. Evaluate the performances on the training set would be like cheating and would be far from the main idea behind any deep learning system: be able to correctly explain **new** examples"
   ]
  },
  {
   "cell_type": "code",
   "execution_count": 23,
   "metadata": {},
   "outputs": [],
   "source": [
    "class VQA_Dataset(Dataset):\n",
    "    def __init__(self, VQA, qv_w2id, av_w2id):\n",
    "        self.data = self.make_data(VQA, qv_w2id, av_w2id)\n",
    "\n",
    "    def make_data(self, VQA, qv_w2id, av_w2id):\n",
    "        transform = transforms.Compose([\n",
    "            transforms.Resize((224, 224)),\n",
    "            # https://pytorch.org/vision/main/generated/torchvision.transforms.ToTensor.html\n",
    "            transforms.ToTensor(),\n",
    "        ])\n",
    "        data = list()\n",
    "        qv_l = len(qv_w2id.keys())-2 #we remove oov and pad from the count\n",
    "        av_l = len(av_w2id.keys())-2\n",
    "        # efficient handling of the images\n",
    "        imgs = dict()\n",
    "        for k in VQA.qa:\n",
    "            # we build for each question the item <qst, img, ans> for the training phase\n",
    "            item = dict()\n",
    "            item[\"id\"] = k\n",
    "            item[\"question\"] = [qv_w2id.get(w, qv_l)\n",
    "                             for w in VQA.qqa[k]['question'].split()]\n",
    "            img_id = VQA.qqa[k][\"image_id\"]\n",
    "            img_pth = VQA.get_img_from_id(img_id)\n",
    "            imgs[img_id] = imgs.get(img_id, Image.open(img_pth).convert('RGB'))\n",
    "            item[\"img\"] = transform(imgs[img_id])\n",
    "            # note that if the word is not in the vocabulary we set it as OOV (unknown)\n",
    "            item[\"answer\"] = av_w2id.get(VQA.qa[k][\"multiple_choice_answer\"], av_l)\n",
    "            data.append(item)\n",
    "        return data\n",
    "\n",
    "    def __len__(self):\n",
    "        return len(self.data)\n",
    "\n",
    "    def __getitem__(self, idx):\n",
    "        return self.data[idx]\n",
    "\n",
    "class VQA_DataModule(pl.LightningDataModule):\n",
    "    def __init__(self, hparams: dict, train_VQA: Any, val_VQA: Any, qv_w2id: dict, qv_id2w: dict, av_w2id: dict, av_id2w: dict) -> None:\n",
    "        super().__init__()\n",
    "        self.save_hyperparameters(hparams)\n",
    "        self.train_VQA = train_VQA\n",
    "        self.val_VQA = val_VQA\n",
    "        self.qv_w2id = qv_w2id\n",
    "        self.qv_id2w = qv_id2w\n",
    "        self.av_w2id = av_w2id\n",
    "        self.av_id2w = av_id2w\n",
    "\n",
    "    def setup(self, stage: Optional[str] = None) -> None:\n",
    "        self.data_train = VQA_Dataset(\n",
    "            self.train_VQA, self.qv_w2id, self.av_w2id)\n",
    "        self.data_val = VQA_Dataset(self.val_VQA, self.qv_w2id, self.av_w2id)\n",
    "\n",
    "    def train_dataloader(self):\n",
    "        return DataLoader(\n",
    "            self.data_train,\n",
    "            batch_size=self.hparams.batch_size,\n",
    "            shuffle=True,\n",
    "            num_workers=self.hparams.n_cpu,\n",
    "            collate_fn=self.collate,\n",
    "            pin_memory=True,\n",
    "            persistent_workers=True\n",
    "        )\n",
    "\n",
    "    def val_dataloader(self):\n",
    "        return DataLoader(\n",
    "            self.data_val,\n",
    "            batch_size=self.hparams.batch_size,\n",
    "            shuffle=False,\n",
    "            num_workers=self.hparams.n_cpu,\n",
    "            collate_fn=self.collate,\n",
    "            pin_memory=True,\n",
    "            persistent_workers=True\n",
    "        )\n",
    "\n",
    "    def collate(self, batch):\n",
    "        batch_out = dict()\n",
    "        batch_out[\"id\"] = [sample[\"id\"] for sample in batch]\n",
    "        batch_out[\"answer\"] = torch.as_tensor(\n",
    "            [sample[\"answer\"] for sample in batch])\n",
    "        batch_out[\"img\"] = torch.stack(\n",
    "            [sample[\"img\"] for sample in batch], dim=0)\n",
    "        batch_out[\"question\"] = pad_sequence(\n",
    "            [torch.as_tensor(sample[\"question\"]) for sample in batch],\n",
    "            batch_first=True,\n",
    "            padding_value=self.hparams.qv_size+1\n",
    "        )\n",
    "        return batch_out\n"
   ]
  },
  {
   "cell_type": "code",
   "execution_count": 24,
   "metadata": {},
   "outputs": [],
   "source": [
    "# Creation of the data module \n",
    "data = VQA_DataModule(hparams, train_VQA, val_VQA, qv_w2id, qv_id2w, av_w2id, av_id2w)"
   ]
  },
  {
   "cell_type": "markdown",
   "metadata": {},
   "source": [
    "### Architecture"
   ]
  },
  {
   "cell_type": "markdown",
   "metadata": {},
   "source": [
    "**PAPER ARCHITECTURE**\n",
    "![Architecture](https://imgur.com/vhOuMrh.jpg)\n",
    "<br> The model consists in 2 different channels: an **image** channel and a **question** channel.<br>\n",
    "Here the differenent components of our model\n",
    "\n",
    "1.   **Image channel**<br>This channel provides an embedding for the *image*. In this part we used a ***VGG16*** pretrained network with feature extractor and first layers of the classifier freezed. One last FC layer is built on top so to obtain an output *1024-dim*.\n",
    "2.   **Question channel**<br>This channel provides an embedding for the *question*. In particular we used an ***LSTM*** with two hidden layers (which gives an embedding of *2048-dim* for the question). One last FC layer is built on top to transform *2048-dim* embedding to *1024-dim*.\n",
    "3.   **MLP** <br>The image and question embedding are fused via *element-wise multiplication* in order to obtain a single embedding. This *result embedding* is then feed to a fully connected layer of *1000-dim* output, which will make the  prediction about the  correct answer."
   ]
  },
  {
   "cell_type": "markdown",
   "metadata": {},
   "source": [
    "**CNN**\n",
    "<br>Convolutional neural network have prove to be very efficient in image analysis. This comes from the fact that CNN are able to exploit priors of our image, such as:\n",
    "\n",
    "*   Translation equivariance\n",
    "*   Compositionality\n",
    "*   Locality\n",
    "*   Self similarity<br>\n",
    "\n",
    "\n",
    "**LSTM**<br>\n",
    "The basic architectures used to build a seq2seq model are RNNs, the general idea is that it takes as input a sequence of vectors $x_1, ..., x_n$ and an initial state vector $h_0$ and it returns a list of hidden/state vectors $h_1, ..., h_n$ and a list of output vectors $\\hat{y}_1, ..., \\hat{y}_n$ where each $\\hat{y}_i$ is a function of the corresponding state vector $h_i$: a kind of memory of the previous $i$ inputs. To overcome the vanishing gradient problem of the basic architecture that would result in saturation of the state vectors during the backpropagation step, the authors decided to use the Long-Short Term Memory Networks (LSTM). "
   ]
  },
  {
   "cell_type": "markdown",
   "metadata": {},
   "source": [
    "We used ADAM as optimizer, it is very powerful since it is able to adapt it's learning rate depending on how the training is going coherent with what we said above with respect to lr."
   ]
  },
  {
   "cell_type": "code",
   "execution_count": 25,
   "metadata": {},
   "outputs": [],
   "source": [
    "# this baseline comes from the paper \"1505.00468\", it uses lstm+cnn to predict the final one-word answer.\n",
    "class VQA_Baseline(pl.LightningModule):\n",
    "    def __init__(self, hparams: dict) -> None:\n",
    "        super(VQA_Baseline, self).__init__()\n",
    "        self.save_hyperparameters(hparams)\n",
    "        self.cnn = models.vgg16(pretrained=True)\n",
    "        # we freeze the features extractor of the cnn\n",
    "        for params in self.cnn.features.parameters():\n",
    "            params.requires_grad = False\n",
    "        # we freeze the first layer of the classifier because has >102M params\n",
    "        for params in self.cnn.classifier[0].parameters():\n",
    "            params.requires_grad = False\n",
    "        # we remove the last linear layer to be consistent with the authors\n",
    "        self.cnn.classifier=self.cnn.classifier[:-1]\n",
    "        self.mlp1 = nn.Linear(4096, self.hparams.output_dim) #1024\n",
    "        self.word_emb = nn.Embedding(self.hparams.qv_size+2, self.hparams.word_emb_dim, padding_idx=self.hparams.qv_size+1)\n",
    "        if not self.hparams.trainable_embeddings:\n",
    "            for params in self.word_emb.parameters():\n",
    "                params.requires_grad = False\n",
    "        self.lstm = nn.LSTM(self.hparams.word_emb_dim, self.hparams.lstm_hidden_dim,\n",
    "                            bidirectional = self.hparams.bidirectional,\n",
    "                            num_layers = self.hparams.lstm_num_layers,\n",
    "                            dropout = self.hparams.dropout if self.hparams.lstm_num_layers > 1 else 0,\n",
    "                            batch_first = True,\n",
    "                            )\n",
    "        lstm_output_dim = self.hparams.lstm_hidden_dim if self.hparams.bidirectional is False else self.hparams.lstm_hidden_dim * 2\n",
    "        lstm_emb_dim = 2*lstm_output_dim*self.hparams.lstm_num_layers\n",
    "        self.dropout = nn.Dropout(self.hparams.dropout)\n",
    "        self.mlp2 = nn.Linear(lstm_emb_dim, self.hparams.output_dim) #1024\n",
    "        self.classifier = nn.Linear(self.hparams.output_dim, self.hparams.av_size)\n",
    "    \n",
    "    def forward(self, x: Dict[str, torch.Tensor]) -> Dict[str, torch.Tensor]:\n",
    "        t_img = self.cnn(x[\"img\"])\n",
    "        # normalization with brodcasting\n",
    "        norm = t_img.pow(2).sum(dim=1).sqrt()\n",
    "        t_img = t_img/norm[:,None]\n",
    "        img_emb = F.leaky_relu(self.mlp1(t_img), inplace=True)\n",
    "        t_words = self.word_emb(x[\"question\"])\n",
    "        _, (h, c) = self.lstm(t_words)\n",
    "        t_quest_tmp = torch.cat([c,h])\n",
    "        t_quest = t_quest_tmp.reshape(t_quest_tmp.shape[1],-1)\n",
    "        qst_emb = torch.tanh(self.mlp2(t_quest))\n",
    "        q_i_emb = self.dropout(img_emb*qst_emb)\n",
    "        return {\"class_prob\": self.classifier(q_i_emb), \"id\": x[\"id\"]}\n",
    "    \n",
    "    def predict(self, x: Dict[str, torch.Tensor]) -> Dict[str, torch.Tensor]:\n",
    "        n_out = dict()\n",
    "        with torch.no_grad():\n",
    "            output = self(x)\n",
    "            n_out[\"pred\"] = list(torch.argmax(output[\"class_prob\"], dim=1).view(-1).cpu().detach().numpy())\n",
    "            n_out[\"id\"] = output[\"id\"]\n",
    "        return n_out\n",
    "    \n",
    "    def configure_optimizers(self):\n",
    "        optimizer = optim.Adam(self.parameters(), lr=self.hparams.lr, betas=(0.9, 0.999), eps=1e-6, weight_decay=self.hparams.wd)\n",
    "        reduce_lr_on_plateau = ReduceLROnPlateau(optimizer, mode='min',verbose=True, min_lr=1e-8)\n",
    "        return {\n",
    "            \"optimizer\": optimizer,\n",
    "            \"lr_scheduler\": {\n",
    "                \"scheduler\": reduce_lr_on_plateau,\n",
    "                \"monitor\": 'loss',\n",
    "                \"frequency\": 1\n",
    "            },\n",
    "        }\n",
    "\n",
    "    def training_step(self, batch: Dict[str, torch.Tensor], batch_idx) -> Dict[str, torch.Tensor]:\n",
    "        output = self(batch)\n",
    "        return self.loss_function(output, batch[\"answer\"]) \n",
    "\n",
    "    def validation_step(self, batch: Dict[str, torch.Tensor], batch_idx: int) -> Dict[str, torch.Tensor]:\n",
    "        output = self(batch)\n",
    "        loss = self.loss_function(output, batch[\"answer\"])\n",
    "        return {\"loss_val\": loss}\n",
    "\n",
    "    def loss_function(self, predictions, labels):\n",
    "        return F.cross_entropy(predictions[\"class_prob\"], labels, ignore_index=self.hparams.av_size)\n",
    "\n",
    "    def validation_epoch_end(self, outputs: List[Dict[str, torch.Tensor]]):\n",
    "        avg_loss = torch.stack([x[\"loss_val\"] for x in outputs]).mean()\n",
    "        self.log_dict({\"avg_val_loss\": avg_loss})\n",
    "        return {\"avg_val_loss\": avg_loss}\n",
    "    \n",
    "    def training_epoch_end(self, outputs: List[Dict[str, torch.Tensor]]):\n",
    "        avg_loss = torch.stack([x[\"loss\"] for x in outputs]).mean()\n",
    "        self.log_dict({\"loss\": avg_loss})"
   ]
  },
  {
   "cell_type": "code",
   "execution_count": 26,
   "metadata": {},
   "outputs": [],
   "source": [
    "model = VQA_Baseline(hparams)"
   ]
  },
  {
   "cell_type": "markdown",
   "metadata": {},
   "source": [
    "To limit overfitting and avoid much more epochs than needed to complete the training, we use the early stopping regulation technique which is very powerful since it controls whether there is an improvement in the model or not. If there is no improvement in the model performances for a given number of epochs (patience) on a certain metric (metric_to_monitor) then the training stops. "
   ]
  },
  {
   "cell_type": "code",
   "execution_count": null,
   "metadata": {},
   "outputs": [],
   "source": [
    "experiment_name = \"baseline\"\n",
    "log_version = \"1\"\n",
    "logger = CSVLogger(\"logs\", name=experiment_name, version=log_version)\n",
    "epochs = 3\n",
    "# f1 of argument classification, also possible eg 'avg_val_loss'\n",
    "metric_to_monitor = \"avg_val_loss\"\n",
    "mode = \"min\"  # you want to maximixe or minimize the metric?\n",
    "early_stop_callback = EarlyStopping(\n",
    "    monitor=metric_to_monitor, mode=mode, min_delta=0.00, patience=5, verbose=True)\n",
    "    \n",
    "checkpoint_callback = ModelCheckpoint(\n",
    "    save_top_k=1,\n",
    "    monitor=metric_to_monitor,\n",
    "    mode=mode,\n",
    "    dirpath=\"models\",\n",
    "    filename=experiment_name+\"_\"+log_version+\"-{epoch:02d}-{loss:.4f}\",\n",
    "    verbose=True\n",
    ")\n",
    "# the trainer collect all the useful informations so far for the training\n",
    "n_gpus = 1 if torch.cuda.is_available() else 0\n",
    "trainer = pl.Trainer(logger=logger,\n",
    "                     max_epochs=epochs,\n",
    "                     log_every_n_steps=1,\n",
    "                     gpus=n_gpus,\n",
    "                     callbacks=[early_stop_callback, checkpoint_callback],\n",
    "                     num_sanity_val_steps=0)"
   ]
  },
  {
   "cell_type": "code",
   "execution_count": null,
   "metadata": {},
   "outputs": [],
   "source": [
    "trainer.fit(model, data)"
   ]
  },
  {
   "cell_type": "code",
   "execution_count": null,
   "metadata": {},
   "outputs": [],
   "source": [
    "# est_ckpt = \"models/baseline_0-epoch=29-loss=3.3660.ckpt\"\n",
    "# model = VQA_Baseline.load_from_checkpoint(best_ckpt, strict=False)\n",
    "ans_types, scores = evaluate_performances(model, data, on_train_set=False)"
   ]
  },
  {
   "cell_type": "code",
   "execution_count": null,
   "metadata": {},
   "outputs": [],
   "source": [
    "print_item_pred(data, model, [131366000], True)"
   ]
  },
  {
   "cell_type": "code",
   "execution_count": null,
   "metadata": {},
   "outputs": [],
   "source": [
    "models_name = [\"baseline/0\", \"baseline/bi-lstm\"]\n",
    "metrics = [\"loss\", \"avg_val_loss\"]\n",
    "md = plot_multiple(metrics, models_name)"
   ]
  },
  {
   "cell_type": "markdown",
   "metadata": {},
   "source": [
    "### **CONCLUSIONS ON THE BASELINE**\n",
    "As shown from the evaluation this model achieves a final accuracy of **27%** on the validation set. By looking carefully the results we can see how only answers like \"yes/no\" are given correctly (>65%) while the performances are heavily penalized by \"other\" and \"number\" question types. Scoring so poorly we tried to improve the language model using a Bi-LSTM over the simple LSTM to attain better performances, but we got the same training trend.\n",
    "\n",
    "This may not look good but it was actually a real breakthrough. The bottleneck of our network as one can expect is the CNN. Using VGG the model is not able to correctly learn specific features in an image (for instance to count objects), but it is able in some cases to answer easy questions which would require a yes/no answer; this subproblem can be seen as a classification task that our model is able to solve.\n",
    "\n",
    "The main improvement that we'll propose will be a modified version of this CNN in which a region-proposal scheme is taken into account."
   ]
  },
  {
   "cell_type": "markdown",
   "metadata": {},
   "source": [
    "## ViLT: Vision-and-Language Transformer model"
   ]
  },
  {
   "cell_type": "markdown",
   "metadata": {},
   "source": [
    "As discussed the VGG or, in general any CNN, is too simple to capture the features needed to properly answer a question that does not require a yes/no answer. For this reason we switched to an higher capacitive model, in particular the Vision and Language Transformers, so that from one side we can better embed the question sentence avoiding a randomly initialized nn.embedder and from the other, and this is very important, our model can reason on different patches of the image and point the correct attention to the meaningful features that allows to answer correctly. <br> \n",
    "There are different modalities to extract significant patches from the image:\n",
    "* Region features: also known as bottom-up features are intensively used by VLP models before 2020. They are obtained from an object detector like Faster R-CNN. This approach is very slow and constitute a bottleneck in the inference algorithm since requires many steps of refinements in order to produce those features. \n",
    "* Grid Feature: the idea is to exploit output feature grid of CNNs such as ResNets. It's surely faster to extract them, nevertheless deep CNNs are still expensive and they account for a large portion of the whole computation. Still those features are ~40 times faster to compute with respect to \"region features\", and indeed many VQA models have been built exploiting them, the most popular are X-LXMERT and Pixel-BERT.\n",
    "* Patch Projection: is the simplest visual embedding scheme indeed only a linear projection operates on image patches. Patch projection drastically simplifies the visual embedding step to the level of textual embedding, which also consists of simple projection (lookup) operations. Simplicity implies also velocity in this case, those are also the fastest features to use ~4 times faster than \"Grid\" ones.\n",
    "\n",
    "For our model we decided to adopt the ViLT base https://arxiv.org/abs/2102.03334 that uses linear projection as ViT model and the good old bert as language model. We used it almost as it is (since it has been pretrained on a VQA task), due to our hardware limits and remarkable studies like https://arxiv.org/abs/1905.05583 we decided to pretrain only the last 2 embedding layers! ViLT benefit from both \"Single-Modality\" and \"Cross-Modality\" which are nothing else than the attention mechanism between only the vision and language model and across them to select "
   ]
  },
  {
   "cell_type": "code",
   "execution_count": 18,
   "metadata": {},
   "outputs": [],
   "source": [
    "@dataclass\n",
    "class HParams2():\n",
    "    # dataset stuff\n",
    "    batch_size: int = 256\n",
    "    n_cpu: int = 8\n",
    "    qv_size: int = 1000 #+1 for oov +1 for pad\n",
    "    av_size: int = 1000 #+1 for oov +1 for pad\n",
    "    lr: int = 3e-4\n",
    "    wd: int = 0\n",
    "    dropout: float = 0.3\n",
    "    trainable_embeddings: bool = True\n",
    "    prediction_strategy_top: int = 1 # choose the number of k to use a top-k prediction method\n",
    "    embedding_strategy: str = \"simple\" # choose between \"simple\" and \"with_type\"\n",
    "    loss_strategy: str = \"simple\" # choose between \"simple\" and \"human_like1\" and \"human_like2\""
   ]
  },
  {
   "cell_type": "markdown",
   "metadata": {},
   "source": [
    "We need to slightly modify the dataset in such a way that the input is coherent for the new ViLT model: therefore we are not converting to tensor the image and embed the question but let the transformers' preprocessor doing the job."
   ]
  },
  {
   "cell_type": "code",
   "execution_count": 19,
   "metadata": {},
   "outputs": [],
   "source": [
    "class VQA_Dataset2(Dataset):\n",
    "    def __init__(self, VQA, av_w2id, embedding_strategy, loss_strategy):\n",
    "        assert(embedding_strategy in [\"simple\",\"with_type\"])\n",
    "        assert(loss_strategy in [\"simple\",\"human_like1\",\"human_like2\"])\n",
    "        self.data = self.make_data(VQA, av_w2id, embedding_strategy, loss_strategy)\n",
    "\n",
    "    def make_data(self, VQA, av_w2id, embedding_strategy, loss_strategy):\n",
    "        data = list()\n",
    "        av_l = len(av_w2id.keys())-2  # we remove oov and pad from the count\n",
    "        # efficient handling of the images\n",
    "        imgs = dict()\n",
    "        for k in VQA.qa:\n",
    "            # we build for each question the item <qst, img, ans> for the training phase\n",
    "            item = dict()\n",
    "            item[\"id\"] = k\n",
    "            if embedding_strategy == \"simple\":\n",
    "                item[\"question\"] = VQA.qqa[k]['question']\n",
    "            else:\n",
    "                # we now embed together with the question, as \"context\" for the bert model inside ViLT, the \"question_type\" word,\n",
    "                # the idea is that with this helpful information the language embedeer can point the attention to meaningful \n",
    "                # keywords like [\"how\" \"many\" ... \"dogs\"] insie a \"number-type\" question.\n",
    "                item[\"question\"] = [VQA.qqa[k]['question'], VQA.qa[k][\"answer_type\"]]\n",
    "            img_id = VQA.qqa[k][\"image_id\"]\n",
    "            img_pth = VQA.get_img_from_id(img_id)\n",
    "            imgs[img_id] = imgs.get(img_id, Image.open(img_pth).convert('RGB'))\n",
    "            item[\"img\"] = imgs[img_id]\n",
    "            if loss_strategy != \"simple\":\n",
    "                item[\"all_answers\"] = [av_w2id.get(ans[\"answer\"], av_l) for ans in VQA.qa[k][\"answers\"]]\n",
    "            item[\"answer\"] = av_w2id.get(\n",
    "                VQA.qa[k][\"multiple_choice_answer\"], av_l)\n",
    "            data.append(item)\n",
    "        return data\n",
    "\n",
    "    def __len__(self):\n",
    "        return len(self.data)\n",
    "\n",
    "    def __getitem__(self, idx):\n",
    "        return self.data[idx]\n",
    "\n",
    "\n",
    "class VQA_DataModule2(pl.LightningDataModule):\n",
    "    def __init__(self, hparams: dict, train_VQA: Any, val_VQA: Any,\n",
    "                 av_w2id: dict, av_id2w: dict) -> None:\n",
    "        super().__init__()\n",
    "        self.save_hyperparameters(hparams)\n",
    "        self.train_VQA = train_VQA\n",
    "        self.val_VQA = val_VQA\n",
    "        self.av_w2id = av_w2id\n",
    "        self.av_id2w = av_id2w\n",
    "\n",
    "    def setup(self, stage: Optional[str] = None) -> None:\n",
    "        self.data_train = VQA_Dataset2(\n",
    "            self.train_VQA, self.av_w2id, self.hparams.embedding_strategy, self.hparams.loss_strategy)\n",
    "        self.data_val = VQA_Dataset2(self.val_VQA, self.av_w2id, self.hparams.embedding_strategy, self.hparams.loss_strategy)\n",
    "\n",
    "    def train_dataloader(self):\n",
    "        return DataLoader(\n",
    "            self.data_train,\n",
    "            batch_size=self.hparams.batch_size,\n",
    "            shuffle=True,\n",
    "            num_workers=self.hparams.n_cpu,\n",
    "            collate_fn=self.collate,\n",
    "            pin_memory=True,\n",
    "            persistent_workers=True\n",
    "        )\n",
    "\n",
    "    def val_dataloader(self):\n",
    "        return DataLoader(\n",
    "            self.data_val,\n",
    "            batch_size=self.hparams.batch_size,\n",
    "            shuffle=False,\n",
    "            num_workers=self.hparams.n_cpu,\n",
    "            collate_fn=self.collate,\n",
    "            pin_memory=True,\n",
    "            persistent_workers=True\n",
    "        )\n",
    "\n",
    "    def collate(self, batch):\n",
    "        batch_out = dict()\n",
    "        batch_out[\"id\"] = [sample[\"id\"] for sample in batch]\n",
    "        batch_out[\"answer\"] = torch.as_tensor(\n",
    "            [sample[\"answer\"] for sample in batch])\n",
    "        if self.hparams.loss_strategy != \"simple\":\n",
    "            batch_out[\"all_answers\"] = [sample[\"all_answers\"] for sample in batch]\n",
    "        batch_out[\"img\"] = [sample[\"img\"] for sample in batch]\n",
    "        batch_out[\"question\"] = [sample[\"question\"] for sample in batch]\n",
    "        return batch_out\n"
   ]
  },
  {
   "cell_type": "code",
   "execution_count": 20,
   "metadata": {},
   "outputs": [],
   "source": [
    "class VQA_ViLT(pl.LightningModule):\n",
    "    def __init__(self, hparams: dict) -> None:\n",
    "        super(VQA_ViLT, self).__init__()\n",
    "        self.save_hyperparameters(hparams)\n",
    "        self.processor = ViltProcessor.from_pretrained(\n",
    "            \"dandelin/vilt-b32-finetuned-vqa\")\n",
    "        self.vilt = ViltModel.from_pretrained(\n",
    "            \"dandelin/vilt-b32-finetuned-vqa\")\n",
    "        for param in self.vilt.parameters():\n",
    "            param.requires_grad = False\n",
    "        if self.hparams.trainable_embeddings:\n",
    "            #we can unfreeze only some layers due to limited gpu card memory.\n",
    "            unfreeze = [10, 11]\n",
    "            for i in unfreeze:\n",
    "                for param in self.vilt.encoder.layer[i].parameters():\n",
    "                    param.requires_grad = True\n",
    "        self.dropout = nn.Dropout(self.hparams.dropout)\n",
    "        self.classifier = nn.Sequential(\n",
    "            nn.Linear(768, 1500),\n",
    "            nn.ReLU(),\n",
    "            self.dropout,\n",
    "            nn.Linear(1500, self.hparams.av_size),\n",
    "            nn.LeakyReLU())\n",
    "        # self.classifier = nn.Linear(768, self.hparams.av_size)\n",
    "\n",
    "    def forward(self, x):\n",
    "        embeddings = self.processor(\n",
    "            x[\"img\"],\n",
    "            x[\"question\"],\n",
    "            return_tensors=\"pt\", padding=True).to(self.device)\n",
    "        o = self.vilt(**embeddings).pooler_output\n",
    "        if self.hparams.loss_strategy == \"simple\":\n",
    "            return {\"class_prob\": self.classifier(self.dropout(o)), \"id\": x[\"id\"]}\n",
    "        else:\n",
    "            return {\"class_prob\": self.classifier(self.dropout(o)), \"id\": x[\"id\"], \"all_answers\": x[\"all_answers\"]}\n",
    "\n",
    "    def predict(self, x: Dict[str, torch.Tensor]) -> Dict[str, torch.Tensor]:\n",
    "        n_out = dict()\n",
    "        with torch.no_grad():\n",
    "            output = self(x)\n",
    "            # here we implement a top k prediction strategy with a given k as hyperparameter\n",
    "            # if k = 1 we are simply using the argmax prediction as in the baseline\n",
    "            top_k = torch.topk(\n",
    "                output[\"class_prob\"],\n",
    "                self.hparams.prediction_strategy_top, dim=-1)\n",
    "            # we need to normalize the \"probabilities\" (this step is not done at prediction time\n",
    "            # because it is implicit in the crossentropy function, still we need to manually\n",
    "            # apply it here)\n",
    "            scores = F.softmax(top_k.values, dim=-1)\n",
    "            # we sample only one element from the given \"probability distribution\" extracted with topk\n",
    "            pred_id = torch.multinomial(scores, 1).view(-1).tolist()\n",
    "            pred = top_k.indices[torch.arange(top_k.indices.size(0)), pred_id]\n",
    "            n_out[\"pred\"] = pred.view(-1).tolist()\n",
    "            n_out[\"id\"] = output[\"id\"]\n",
    "        return n_out\n",
    "\n",
    "    def configure_optimizers(self):\n",
    "        optimizer = optim.Adam(\n",
    "            self.parameters(),\n",
    "            lr=self.hparams.lr, betas=(0.9, 0.999),\n",
    "            eps=1e-6, weight_decay=self.hparams.wd)\n",
    "        reduce_lr_on_plateau = ReduceLROnPlateau(\n",
    "            optimizer, mode='min', verbose=True, min_lr=1e-8)\n",
    "        return {\n",
    "            \"optimizer\": optimizer,\n",
    "            \"lr_scheduler\": {\n",
    "                \"scheduler\": reduce_lr_on_plateau,\n",
    "                \"monitor\": 'loss',\n",
    "                \"frequency\": 1\n",
    "            },\n",
    "        }\n",
    "\n",
    "    def training_step(self, batch: Dict[str, torch.Tensor],\n",
    "                      batch_idx) -> Dict[str, torch.Tensor]:\n",
    "        output = self(batch)\n",
    "        return self.loss_function(output, batch[\"answer\"])\n",
    "\n",
    "    def validation_step(self, batch: Dict[str, torch.Tensor],\n",
    "                        batch_idx: int) -> Dict[str, torch.Tensor]:\n",
    "        output = self(batch)\n",
    "        loss = self.loss_function(output, batch[\"answer\"])\n",
    "        return {\"loss_val\": loss}\n",
    "\n",
    "    def loss_function(self, predictions, labels):\n",
    "        pred, lab = predictions[\"class_prob\"], labels\n",
    "        splits = self.hparams.loss_strategy.split(\"human_like\")\n",
    "        if len(splits)>1 and self.training:\n",
    "            answers = torch.as_tensor(predictions[\"all_answers\"]).to(self.device)\n",
    "            most_prob = torch.argmax(predictions[\"class_prob\"], dim=1).view(-1)\n",
    "            filter = most_prob.unsqueeze(dim=1) == answers\n",
    "            filter = torch.sum(filter.float(), dim=1)\n",
    "            filter = filter < int(splits[1])\n",
    "            # if we have at least one answer inside the possible proposed by humans\n",
    "            # we accept it as valid answer, and so we do not care about its loss!\n",
    "            if not torch.all(filter==False):\n",
    "                pred, lab = predictions[\"class_prob\"][filter], labels[filter]\n",
    "            else:\n",
    "                print(\"our training is considered complete for this batch\")\n",
    "                # with None we skip this training step\n",
    "                return None\n",
    "        return F.cross_entropy(\n",
    "            pred, lab, ignore_index=self.hparams.av_size)\n",
    "\n",
    "    def validation_epoch_end(self, outputs: List[Dict[str, torch.Tensor]]):\n",
    "        avg_loss = torch.stack([x[\"loss_val\"] for x in outputs]).mean()\n",
    "        self.log_dict({\"avg_val_loss\": avg_loss})\n",
    "        return {\"avg_val_loss\": avg_loss}\n",
    "\n",
    "    def training_epoch_end(self, outputs: List[Dict[str, torch.Tensor]]):\n",
    "        avg_loss = torch.stack([x[\"loss\"] for x in outputs]).mean()\n",
    "        self.log_dict({\"loss\": avg_loss})\n"
   ]
  },
  {
   "cell_type": "code",
   "execution_count": 21,
   "metadata": {},
   "outputs": [
    {
     "name": "stderr",
     "output_type": "stream",
     "text": [
      "Some weights of the model checkpoint at dandelin/vilt-b32-finetuned-vqa were not used when initializing ViltModel: ['classifier.3.bias', 'classifier.0.bias', 'classifier.3.weight', 'classifier.0.weight', 'classifier.1.weight', 'classifier.1.bias']\n",
      "- This IS expected if you are initializing ViltModel from the checkpoint of a model trained on another task or with another architecture (e.g. initializing a BertForSequenceClassification model from a BertForPreTraining model).\n",
      "- This IS NOT expected if you are initializing ViltModel from the checkpoint of a model that you expect to be exactly identical (initializing a BertForSequenceClassification model from a BertForSequenceClassification model).\n",
      "GPU available: True, used: True\n",
      "TPU available: False, using: 0 TPU cores\n",
      "IPU available: False, using: 0 IPUs\n",
      "HPU available: False, using: 0 HPUs\n",
      "/home/dennis/Applications/anaconda3/envs/dlp/lib/python3.9/site-packages/pytorch_lightning/callbacks/model_checkpoint.py:611: UserWarning: Checkpoint directory /home/dennis/Desktop/Visual_QA_deep_learning/models exists and is not empty.\n",
      "  rank_zero_warn(f\"Checkpoint directory {dirpath} exists and is not empty.\")\n",
      "LOCAL_RANK: 0 - CUDA_VISIBLE_DEVICES: [0]\n",
      "\n",
      "  | Name       | Type       | Params\n",
      "------------------------------------------\n",
      "0 | vilt       | ViltModel  | 111 M \n",
      "1 | dropout    | Dropout    | 0     \n",
      "2 | classifier | Sequential | 2.7 M \n",
      "------------------------------------------\n",
      "16.8 M    Trainable params\n",
      "97.4 M    Non-trainable params\n",
      "114 M     Total params\n",
      "456.998   Total estimated model params size (MB)\n"
     ]
    },
    {
     "name": "stdout",
     "output_type": "stream",
     "text": [
      "Epoch 0: 100%|██████████| 41/41 [03:50<00:00,  5.61s/it, loss=3.31, v_num=type]"
     ]
    },
    {
     "name": "stderr",
     "output_type": "stream",
     "text": [
      "Metric avg_val_loss improved. New best score: 2.559\n"
     ]
    },
    {
     "name": "stdout",
     "output_type": "stream",
     "text": [
      "Epoch 0: 100%|██████████| 41/41 [03:50<00:00,  5.61s/it, loss=3.31, v_num=type]"
     ]
    },
    {
     "name": "stderr",
     "output_type": "stream",
     "text": [
      "Epoch 0, global step 37: 'avg_val_loss' reached 2.55940 (best 2.55940), saving model to '/home/dennis/Desktop/Visual_QA_deep_learning/models/ViLT_ex2_simple_withtype-epoch=00-avg_val_loss=2.5594.ckpt' as top 1\n"
     ]
    },
    {
     "name": "stdout",
     "output_type": "stream",
     "text": [
      "Epoch 1: 100%|██████████| 41/41 [03:46<00:00,  5.53s/it, loss=2.71, v_num=type]"
     ]
    },
    {
     "name": "stderr",
     "output_type": "stream",
     "text": [
      "Metric avg_val_loss improved by 0.401 >= min_delta = 0.0. New best score: 2.159\n"
     ]
    },
    {
     "name": "stdout",
     "output_type": "stream",
     "text": [
      "Epoch 1: 100%|██████████| 41/41 [03:46<00:00,  5.53s/it, loss=2.71, v_num=type]"
     ]
    },
    {
     "name": "stderr",
     "output_type": "stream",
     "text": [
      "Epoch 1, global step 74: 'avg_val_loss' reached 2.15886 (best 2.15886), saving model to '/home/dennis/Desktop/Visual_QA_deep_learning/models/ViLT_ex2_simple_withtype-epoch=01-avg_val_loss=2.1589.ckpt' as top 1\n"
     ]
    },
    {
     "name": "stdout",
     "output_type": "stream",
     "text": [
      "Epoch 2: 100%|██████████| 41/41 [03:37<00:00,  5.32s/it, loss=2.24, v_num=type]"
     ]
    },
    {
     "name": "stderr",
     "output_type": "stream",
     "text": [
      "Metric avg_val_loss improved by 0.187 >= min_delta = 0.0. New best score: 1.971\n"
     ]
    },
    {
     "name": "stdout",
     "output_type": "stream",
     "text": [
      "Epoch 2: 100%|██████████| 41/41 [03:37<00:00,  5.32s/it, loss=2.24, v_num=type]"
     ]
    },
    {
     "name": "stderr",
     "output_type": "stream",
     "text": [
      "Epoch 2, global step 111: 'avg_val_loss' reached 1.97137 (best 1.97137), saving model to '/home/dennis/Desktop/Visual_QA_deep_learning/models/ViLT_ex2_simple_withtype-epoch=02-avg_val_loss=1.9714.ckpt' as top 1\n"
     ]
    },
    {
     "name": "stdout",
     "output_type": "stream",
     "text": [
      "Epoch 3: 100%|██████████| 41/41 [03:47<00:00,  5.55s/it, loss=2, v_num=type]   "
     ]
    },
    {
     "name": "stderr",
     "output_type": "stream",
     "text": [
      "Metric avg_val_loss improved by 0.222 >= min_delta = 0.0. New best score: 1.750\n"
     ]
    },
    {
     "name": "stdout",
     "output_type": "stream",
     "text": [
      "Epoch 3: 100%|██████████| 41/41 [03:47<00:00,  5.55s/it, loss=2, v_num=type]"
     ]
    },
    {
     "name": "stderr",
     "output_type": "stream",
     "text": [
      "Epoch 3, global step 148: 'avg_val_loss' reached 1.74976 (best 1.74976), saving model to '/home/dennis/Desktop/Visual_QA_deep_learning/models/ViLT_ex2_simple_withtype-epoch=03-avg_val_loss=1.7498.ckpt' as top 1\n"
     ]
    },
    {
     "name": "stdout",
     "output_type": "stream",
     "text": [
      "Epoch 4: 100%|██████████| 41/41 [03:42<00:00,  5.43s/it, loss=1.66, v_num=type]"
     ]
    },
    {
     "name": "stderr",
     "output_type": "stream",
     "text": [
      "Metric avg_val_loss improved by 0.036 >= min_delta = 0.0. New best score: 1.713\n"
     ]
    },
    {
     "name": "stdout",
     "output_type": "stream",
     "text": [
      "Epoch 4: 100%|██████████| 41/41 [03:42<00:00,  5.43s/it, loss=1.66, v_num=type]"
     ]
    },
    {
     "name": "stderr",
     "output_type": "stream",
     "text": [
      "Epoch 4, global step 185: 'avg_val_loss' reached 1.71342 (best 1.71342), saving model to '/home/dennis/Desktop/Visual_QA_deep_learning/models/ViLT_ex2_simple_withtype-epoch=04-avg_val_loss=1.7134.ckpt' as top 1\n"
     ]
    },
    {
     "name": "stdout",
     "output_type": "stream",
     "text": [
      "Epoch 5: 100%|██████████| 41/41 [03:47<00:00,  5.55s/it, loss=1.38, v_num=type]"
     ]
    },
    {
     "name": "stderr",
     "output_type": "stream",
     "text": [
      "Metric avg_val_loss improved by 0.097 >= min_delta = 0.0. New best score: 1.617\n"
     ]
    },
    {
     "name": "stdout",
     "output_type": "stream",
     "text": [
      "Epoch 5: 100%|██████████| 41/41 [03:47<00:00,  5.55s/it, loss=1.38, v_num=type]"
     ]
    },
    {
     "name": "stderr",
     "output_type": "stream",
     "text": [
      "Epoch 5, global step 222: 'avg_val_loss' reached 1.61679 (best 1.61679), saving model to '/home/dennis/Desktop/Visual_QA_deep_learning/models/ViLT_ex2_simple_withtype-epoch=05-avg_val_loss=1.6168.ckpt' as top 1\n"
     ]
    },
    {
     "name": "stdout",
     "output_type": "stream",
     "text": [
      "Epoch 6: 100%|██████████| 41/41 [03:40<00:00,  5.37s/it, loss=1.22, v_num=type]"
     ]
    },
    {
     "name": "stderr",
     "output_type": "stream",
     "text": [
      "Metric avg_val_loss improved by 0.109 >= min_delta = 0.0. New best score: 1.508\n"
     ]
    },
    {
     "name": "stdout",
     "output_type": "stream",
     "text": [
      "Epoch 6: 100%|██████████| 41/41 [03:40<00:00,  5.37s/it, loss=1.22, v_num=type]"
     ]
    },
    {
     "name": "stderr",
     "output_type": "stream",
     "text": [
      "Epoch 6, global step 259: 'avg_val_loss' reached 1.50785 (best 1.50785), saving model to '/home/dennis/Desktop/Visual_QA_deep_learning/models/ViLT_ex2_simple_withtype-epoch=06-avg_val_loss=1.5079.ckpt' as top 1\n"
     ]
    },
    {
     "name": "stdout",
     "output_type": "stream",
     "text": [
      "Epoch 7: 100%|██████████| 41/41 [03:44<00:00,  5.49s/it, loss=1.01, v_num=type]"
     ]
    },
    {
     "name": "stderr",
     "output_type": "stream",
     "text": [
      "Epoch 7, global step 296: 'avg_val_loss' was not in top 1\n"
     ]
    },
    {
     "name": "stdout",
     "output_type": "stream",
     "text": [
      "Epoch 8: 100%|██████████| 41/41 [03:36<00:00,  5.28s/it, loss=0.881, v_num=type]"
     ]
    },
    {
     "name": "stderr",
     "output_type": "stream",
     "text": [
      "Epoch 8, global step 333: 'avg_val_loss' was not in top 1\n"
     ]
    },
    {
     "name": "stdout",
     "output_type": "stream",
     "text": [
      "Epoch 9: 100%|██████████| 41/41 [03:42<00:00,  5.43s/it, loss=0.783, v_num=type]"
     ]
    },
    {
     "name": "stderr",
     "output_type": "stream",
     "text": [
      "Epoch 9, global step 370: 'avg_val_loss' was not in top 1\n"
     ]
    },
    {
     "name": "stdout",
     "output_type": "stream",
     "text": [
      "Epoch 10: 100%|██████████| 41/41 [03:43<00:00,  5.45s/it, loss=0.707, v_num=type]"
     ]
    },
    {
     "name": "stderr",
     "output_type": "stream",
     "text": [
      "Epoch 10, global step 407: 'avg_val_loss' was not in top 1\n"
     ]
    },
    {
     "name": "stdout",
     "output_type": "stream",
     "text": [
      "Epoch 11: 100%|██████████| 41/41 [03:44<00:00,  5.47s/it, loss=0.599, v_num=type]"
     ]
    },
    {
     "name": "stderr",
     "output_type": "stream",
     "text": [
      "Metric avg_val_loss improved by 0.009 >= min_delta = 0.0. New best score: 1.499\n"
     ]
    },
    {
     "name": "stdout",
     "output_type": "stream",
     "text": [
      "Epoch 11: 100%|██████████| 41/41 [03:44<00:00,  5.47s/it, loss=0.599, v_num=type]"
     ]
    },
    {
     "name": "stderr",
     "output_type": "stream",
     "text": [
      "Epoch 11, global step 444: 'avg_val_loss' reached 1.49909 (best 1.49909), saving model to '/home/dennis/Desktop/Visual_QA_deep_learning/models/ViLT_ex2_simple_withtype-epoch=11-avg_val_loss=1.4991.ckpt' as top 1\n"
     ]
    },
    {
     "name": "stdout",
     "output_type": "stream",
     "text": [
      "Epoch 12: 100%|██████████| 41/41 [03:33<00:00,  5.21s/it, loss=0.525, v_num=type]"
     ]
    },
    {
     "name": "stderr",
     "output_type": "stream",
     "text": [
      "Epoch 12, global step 481: 'avg_val_loss' was not in top 1\n"
     ]
    },
    {
     "name": "stdout",
     "output_type": "stream",
     "text": [
      "Epoch 13: 100%|██████████| 41/41 [03:37<00:00,  5.31s/it, loss=0.48, v_num=type] "
     ]
    },
    {
     "name": "stderr",
     "output_type": "stream",
     "text": [
      "Epoch 13, global step 518: 'avg_val_loss' was not in top 1\n"
     ]
    },
    {
     "name": "stdout",
     "output_type": "stream",
     "text": [
      "Epoch 14: 100%|██████████| 41/41 [03:44<00:00,  5.48s/it, loss=0.424, v_num=type]"
     ]
    },
    {
     "name": "stderr",
     "output_type": "stream",
     "text": [
      "Epoch 14, global step 555: 'avg_val_loss' was not in top 1\n"
     ]
    },
    {
     "name": "stdout",
     "output_type": "stream",
     "text": [
      "Epoch 15: 100%|██████████| 41/41 [03:34<00:00,  5.24s/it, loss=0.406, v_num=type]"
     ]
    },
    {
     "name": "stderr",
     "output_type": "stream",
     "text": [
      "Epoch 15, global step 592: 'avg_val_loss' was not in top 1\n"
     ]
    },
    {
     "name": "stdout",
     "output_type": "stream",
     "text": [
      "Epoch 16: 100%|██████████| 41/41 [03:40<00:00,  5.39s/it, loss=0.441, v_num=type]"
     ]
    },
    {
     "name": "stderr",
     "output_type": "stream",
     "text": [
      "Epoch 16, global step 629: 'avg_val_loss' was not in top 1\n"
     ]
    },
    {
     "name": "stdout",
     "output_type": "stream",
     "text": [
      "Epoch 17: 100%|██████████| 41/41 [03:36<00:00,  5.28s/it, loss=0.391, v_num=type]"
     ]
    },
    {
     "name": "stderr",
     "output_type": "stream",
     "text": [
      "Epoch 17, global step 666: 'avg_val_loss' was not in top 1\n"
     ]
    },
    {
     "name": "stdout",
     "output_type": "stream",
     "text": [
      "Epoch 18: 100%|██████████| 41/41 [03:36<00:00,  5.28s/it, loss=0.304, v_num=type]"
     ]
    },
    {
     "name": "stderr",
     "output_type": "stream",
     "text": [
      "Epoch 18, global step 703: 'avg_val_loss' was not in top 1\n"
     ]
    },
    {
     "name": "stdout",
     "output_type": "stream",
     "text": [
      "Epoch 19: 100%|██████████| 41/41 [03:43<00:00,  5.45s/it, loss=0.242, v_num=type]"
     ]
    },
    {
     "name": "stderr",
     "output_type": "stream",
     "text": [
      "Monitored metric avg_val_loss did not improve in the last 8 records. Best score: 1.499. Signaling Trainer to stop.\n"
     ]
    },
    {
     "name": "stdout",
     "output_type": "stream",
     "text": [
      "Epoch 19: 100%|██████████| 41/41 [03:43<00:00,  5.45s/it, loss=0.242, v_num=type]"
     ]
    },
    {
     "name": "stderr",
     "output_type": "stream",
     "text": [
      "Epoch 19, global step 740: 'avg_val_loss' was not in top 1\n"
     ]
    },
    {
     "name": "stdout",
     "output_type": "stream",
     "text": [
      "Epoch 19: 100%|██████████| 41/41 [03:43<00:00,  5.45s/it, loss=0.242, v_num=type]\n"
     ]
    }
   ],
   "source": [
    "hparams2 = asdict(HParams2())\n",
    "hparams2[\"prediction_strategy_top\"] = 1 # choose the number of k to use a top-k prediction method\n",
    "hparams2[\"embedding_strategy\"] = \"with_type\" # choose between \"simple\" and \"with_type\"\n",
    "hparams2[\"loss_strategy\"] = \"simple\" # choose between \"simple\" and \"human_like1\" and \"human_like2\"\n",
    "data2 = VQA_DataModule2(hparams2, train_VQA, val_VQA, av_w2id, av_id2w)\n",
    "model_vilt = VQA_ViLT(hparams2)\n",
    "experiment_name = \"ViLT\"\n",
    "log_version = \"ex2_simple_withtype\"\n",
    "logger = CSVLogger(\"logs\", name=experiment_name, version=log_version)\n",
    "epochs = 100\n",
    "# we monitor and track avg_val_loss to save the best model and apply EarlyStopping\n",
    "metric_to_monitor = \"avg_val_loss\"\n",
    "mode = \"min\"  # you want to maximixe or minimize the metric?\n",
    "early_stop_callback = EarlyStopping(\n",
    "    monitor=metric_to_monitor, mode=mode, min_delta=0.00, patience=8, verbose=True)\n",
    "checkpoint_callback = ModelCheckpoint(\n",
    "    save_top_k=1,\n",
    "    monitor=metric_to_monitor,\n",
    "    mode=mode,\n",
    "    dirpath=\"models\",\n",
    "    filename=experiment_name+\"_\"+log_version+\"-{epoch:02d}-{avg_val_loss:.4f}\",\n",
    "    verbose=True\n",
    ")\n",
    "# the trainer collect all the useful informations so far for the training\n",
    "n_gpus = 1 if torch.cuda.is_available() else 0\n",
    "trainer_vilt = pl.Trainer(logger=logger,\n",
    "                     max_epochs=epochs,\n",
    "                     log_every_n_steps=1,\n",
    "                     gpus=n_gpus,\n",
    "                     callbacks=[early_stop_callback, checkpoint_callback],\n",
    "                     num_sanity_val_steps=0)\n",
    "trainer_vilt.fit(model_vilt,data2)"
   ]
  },
  {
   "cell_type": "code",
   "execution_count": 22,
   "metadata": {},
   "outputs": [
    {
     "name": "stderr",
     "output_type": "stream",
     "text": [
      "Some weights of the model checkpoint at dandelin/vilt-b32-finetuned-vqa were not used when initializing ViltModel: ['classifier.3.bias', 'classifier.0.bias', 'classifier.3.weight', 'classifier.0.weight', 'classifier.1.weight', 'classifier.1.bias']\n",
      "- This IS expected if you are initializing ViltModel from the checkpoint of a model trained on another task or with another architecture (e.g. initializing a BertForSequenceClassification model from a BertForPreTraining model).\n",
      "- This IS NOT expected if you are initializing ViltModel from the checkpoint of a model that you expect to be exactly identical (initializing a BertForSequenceClassification model from a BertForSequenceClassification model).\n",
      "GPU available: True, used: True\n",
      "TPU available: False, using: 0 TPU cores\n",
      "IPU available: False, using: 0 IPUs\n",
      "HPU available: False, using: 0 HPUs\n",
      "LOCAL_RANK: 0 - CUDA_VISIBLE_DEVICES: [0]\n",
      "\n",
      "  | Name       | Type       | Params\n",
      "------------------------------------------\n",
      "0 | vilt       | ViltModel  | 111 M \n",
      "1 | dropout    | Dropout    | 0     \n",
      "2 | classifier | Sequential | 2.7 M \n",
      "------------------------------------------\n",
      "16.8 M    Trainable params\n",
      "97.4 M    Non-trainable params\n",
      "114 M     Total params\n",
      "456.998   Total estimated model params size (MB)\n"
     ]
    },
    {
     "name": "stdout",
     "output_type": "stream",
     "text": [
      "Epoch 0: 100%|██████████| 41/41 [03:53<00:00,  5.69s/it, loss=5.84, v_num=ike2]"
     ]
    },
    {
     "name": "stderr",
     "output_type": "stream",
     "text": [
      "Metric avg_val_loss improved. New best score: 2.660\n"
     ]
    },
    {
     "name": "stdout",
     "output_type": "stream",
     "text": [
      "Epoch 0: 100%|██████████| 41/41 [03:53<00:00,  5.69s/it, loss=5.84, v_num=ike2]"
     ]
    },
    {
     "name": "stderr",
     "output_type": "stream",
     "text": [
      "Epoch 0, global step 37: 'avg_val_loss' reached 2.66008 (best 2.66008), saving model to '/home/dennis/Desktop/Visual_QA_deep_learning/models/ViLT_ex4_simple_humanlike2-epoch=00-avg_val_loss=2.6601.ckpt' as top 1\n"
     ]
    },
    {
     "name": "stdout",
     "output_type": "stream",
     "text": [
      "Epoch 1: 100%|██████████| 41/41 [03:41<00:00,  5.40s/it, loss=5.68, v_num=ike2]"
     ]
    },
    {
     "name": "stderr",
     "output_type": "stream",
     "text": [
      "Metric avg_val_loss improved by 0.336 >= min_delta = 0.0. New best score: 2.324\n"
     ]
    },
    {
     "name": "stdout",
     "output_type": "stream",
     "text": [
      "Epoch 1: 100%|██████████| 41/41 [03:41<00:00,  5.40s/it, loss=5.68, v_num=ike2]"
     ]
    },
    {
     "name": "stderr",
     "output_type": "stream",
     "text": [
      "Epoch 1, global step 74: 'avg_val_loss' reached 2.32418 (best 2.32418), saving model to '/home/dennis/Desktop/Visual_QA_deep_learning/models/ViLT_ex4_simple_humanlike2-epoch=01-avg_val_loss=2.3242.ckpt' as top 1\n"
     ]
    },
    {
     "name": "stdout",
     "output_type": "stream",
     "text": [
      "Epoch 2: 100%|██████████| 41/41 [03:44<00:00,  5.46s/it, loss=5.65, v_num=ike2]"
     ]
    },
    {
     "name": "stderr",
     "output_type": "stream",
     "text": [
      "Metric avg_val_loss improved by 0.262 >= min_delta = 0.0. New best score: 2.063\n"
     ]
    },
    {
     "name": "stdout",
     "output_type": "stream",
     "text": [
      "Epoch 2: 100%|██████████| 41/41 [03:44<00:00,  5.47s/it, loss=5.65, v_num=ike2]"
     ]
    },
    {
     "name": "stderr",
     "output_type": "stream",
     "text": [
      "Epoch 2, global step 111: 'avg_val_loss' reached 2.06264 (best 2.06264), saving model to '/home/dennis/Desktop/Visual_QA_deep_learning/models/ViLT_ex4_simple_humanlike2-epoch=02-avg_val_loss=2.0626.ckpt' as top 1\n"
     ]
    },
    {
     "name": "stdout",
     "output_type": "stream",
     "text": [
      "Epoch 3: 100%|██████████| 41/41 [03:44<00:00,  5.47s/it, loss=5.51, v_num=ike2]"
     ]
    },
    {
     "name": "stderr",
     "output_type": "stream",
     "text": [
      "Metric avg_val_loss improved by 0.147 >= min_delta = 0.0. New best score: 1.916\n"
     ]
    },
    {
     "name": "stdout",
     "output_type": "stream",
     "text": [
      "Epoch 3: 100%|██████████| 41/41 [03:44<00:00,  5.47s/it, loss=5.51, v_num=ike2]"
     ]
    },
    {
     "name": "stderr",
     "output_type": "stream",
     "text": [
      "Epoch 3, global step 148: 'avg_val_loss' reached 1.91556 (best 1.91556), saving model to '/home/dennis/Desktop/Visual_QA_deep_learning/models/ViLT_ex4_simple_humanlike2-epoch=03-avg_val_loss=1.9156.ckpt' as top 1\n"
     ]
    },
    {
     "name": "stdout",
     "output_type": "stream",
     "text": [
      "Epoch 4: 100%|██████████| 41/41 [03:45<00:00,  5.51s/it, loss=5.49, v_num=ike2]"
     ]
    },
    {
     "name": "stderr",
     "output_type": "stream",
     "text": [
      "Metric avg_val_loss improved by 0.097 >= min_delta = 0.0. New best score: 1.818\n"
     ]
    },
    {
     "name": "stdout",
     "output_type": "stream",
     "text": [
      "Epoch 4: 100%|██████████| 41/41 [03:45<00:00,  5.51s/it, loss=5.49, v_num=ike2]"
     ]
    },
    {
     "name": "stderr",
     "output_type": "stream",
     "text": [
      "Epoch 4, global step 185: 'avg_val_loss' reached 1.81841 (best 1.81841), saving model to '/home/dennis/Desktop/Visual_QA_deep_learning/models/ViLT_ex4_simple_humanlike2-epoch=04-avg_val_loss=1.8184.ckpt' as top 1\n"
     ]
    },
    {
     "name": "stdout",
     "output_type": "stream",
     "text": [
      "Epoch 5: 100%|██████████| 41/41 [03:59<00:00,  5.84s/it, loss=5.26, v_num=ike2]"
     ]
    },
    {
     "name": "stderr",
     "output_type": "stream",
     "text": [
      "Metric avg_val_loss improved by 0.191 >= min_delta = 0.0. New best score: 1.627\n"
     ]
    },
    {
     "name": "stdout",
     "output_type": "stream",
     "text": [
      "Epoch 5: 100%|██████████| 41/41 [03:59<00:00,  5.84s/it, loss=5.26, v_num=ike2]"
     ]
    },
    {
     "name": "stderr",
     "output_type": "stream",
     "text": [
      "Epoch 5, global step 222: 'avg_val_loss' reached 1.62695 (best 1.62695), saving model to '/home/dennis/Desktop/Visual_QA_deep_learning/models/ViLT_ex4_simple_humanlike2-epoch=05-avg_val_loss=1.6269.ckpt' as top 1\n"
     ]
    },
    {
     "name": "stdout",
     "output_type": "stream",
     "text": [
      "Epoch 6: 100%|██████████| 41/41 [04:00<00:00,  5.87s/it, loss=5.2, v_num=ike2] "
     ]
    },
    {
     "name": "stderr",
     "output_type": "stream",
     "text": [
      "Metric avg_val_loss improved by 0.102 >= min_delta = 0.0. New best score: 1.525\n"
     ]
    },
    {
     "name": "stdout",
     "output_type": "stream",
     "text": [
      "Epoch 6: 100%|██████████| 41/41 [04:00<00:00,  5.87s/it, loss=5.2, v_num=ike2]"
     ]
    },
    {
     "name": "stderr",
     "output_type": "stream",
     "text": [
      "Epoch 6, global step 259: 'avg_val_loss' reached 1.52543 (best 1.52543), saving model to '/home/dennis/Desktop/Visual_QA_deep_learning/models/ViLT_ex4_simple_humanlike2-epoch=06-avg_val_loss=1.5254.ckpt' as top 1\n"
     ]
    },
    {
     "name": "stdout",
     "output_type": "stream",
     "text": [
      "Epoch 7: 100%|██████████| 41/41 [03:59<00:00,  5.85s/it, loss=5.03, v_num=ike2]"
     ]
    },
    {
     "name": "stderr",
     "output_type": "stream",
     "text": [
      "Metric avg_val_loss improved by 0.045 >= min_delta = 0.0. New best score: 1.480\n"
     ]
    },
    {
     "name": "stdout",
     "output_type": "stream",
     "text": [
      "Epoch 7: 100%|██████████| 41/41 [03:59<00:00,  5.85s/it, loss=5.03, v_num=ike2]"
     ]
    },
    {
     "name": "stderr",
     "output_type": "stream",
     "text": [
      "Epoch 7, global step 296: 'avg_val_loss' reached 1.48030 (best 1.48030), saving model to '/home/dennis/Desktop/Visual_QA_deep_learning/models/ViLT_ex4_simple_humanlike2-epoch=07-avg_val_loss=1.4803.ckpt' as top 1\n"
     ]
    },
    {
     "name": "stdout",
     "output_type": "stream",
     "text": [
      "Epoch 8: 100%|██████████| 41/41 [04:01<00:00,  5.89s/it, loss=4.92, v_num=ike2]"
     ]
    },
    {
     "name": "stderr",
     "output_type": "stream",
     "text": [
      "Metric avg_val_loss improved by 0.102 >= min_delta = 0.0. New best score: 1.378\n"
     ]
    },
    {
     "name": "stdout",
     "output_type": "stream",
     "text": [
      "Epoch 8: 100%|██████████| 41/41 [04:01<00:00,  5.89s/it, loss=4.92, v_num=ike2]"
     ]
    },
    {
     "name": "stderr",
     "output_type": "stream",
     "text": [
      "Epoch 8, global step 333: 'avg_val_loss' reached 1.37835 (best 1.37835), saving model to '/home/dennis/Desktop/Visual_QA_deep_learning/models/ViLT_ex4_simple_humanlike2-epoch=08-avg_val_loss=1.3784.ckpt' as top 1\n"
     ]
    },
    {
     "name": "stdout",
     "output_type": "stream",
     "text": [
      "Epoch 9: 100%|██████████| 41/41 [04:00<00:00,  5.87s/it, loss=4.91, v_num=ike2]"
     ]
    },
    {
     "name": "stderr",
     "output_type": "stream",
     "text": [
      "Epoch 9, global step 370: 'avg_val_loss' was not in top 1\n"
     ]
    },
    {
     "name": "stdout",
     "output_type": "stream",
     "text": [
      "Epoch 10: 100%|██████████| 41/41 [03:59<00:00,  5.84s/it, loss=4.54, v_num=ike2]"
     ]
    },
    {
     "name": "stderr",
     "output_type": "stream",
     "text": [
      "Metric avg_val_loss improved by 0.093 >= min_delta = 0.0. New best score: 1.286\n"
     ]
    },
    {
     "name": "stdout",
     "output_type": "stream",
     "text": [
      "Epoch 10: 100%|██████████| 41/41 [03:59<00:00,  5.84s/it, loss=4.54, v_num=ike2]"
     ]
    },
    {
     "name": "stderr",
     "output_type": "stream",
     "text": [
      "Epoch 10, global step 407: 'avg_val_loss' reached 1.28572 (best 1.28572), saving model to '/home/dennis/Desktop/Visual_QA_deep_learning/models/ViLT_ex4_simple_humanlike2-epoch=10-avg_val_loss=1.2857.ckpt' as top 1\n"
     ]
    },
    {
     "name": "stdout",
     "output_type": "stream",
     "text": [
      "Epoch 11: 100%|██████████| 41/41 [04:01<00:00,  5.90s/it, loss=4.5, v_num=ike2] "
     ]
    },
    {
     "name": "stderr",
     "output_type": "stream",
     "text": [
      "Epoch 11, global step 444: 'avg_val_loss' was not in top 1\n"
     ]
    },
    {
     "name": "stdout",
     "output_type": "stream",
     "text": [
      "Epoch 12: 100%|██████████| 41/41 [04:00<00:00,  5.87s/it, loss=4.61, v_num=ike2]"
     ]
    },
    {
     "name": "stderr",
     "output_type": "stream",
     "text": [
      "Epoch 12, global step 481: 'avg_val_loss' was not in top 1\n"
     ]
    },
    {
     "name": "stdout",
     "output_type": "stream",
     "text": [
      "Epoch 13: 100%|██████████| 41/41 [03:59<00:00,  5.83s/it, loss=4.62, v_num=ike2]"
     ]
    },
    {
     "name": "stderr",
     "output_type": "stream",
     "text": [
      "Epoch 13, global step 518: 'avg_val_loss' was not in top 1\n"
     ]
    },
    {
     "name": "stdout",
     "output_type": "stream",
     "text": [
      "Epoch 14: 100%|██████████| 41/41 [04:01<00:00,  5.89s/it, loss=4.45, v_num=ike2]"
     ]
    },
    {
     "name": "stderr",
     "output_type": "stream",
     "text": [
      "Metric avg_val_loss improved by 0.027 >= min_delta = 0.0. New best score: 1.259\n"
     ]
    },
    {
     "name": "stdout",
     "output_type": "stream",
     "text": [
      "Epoch 14: 100%|██████████| 41/41 [04:01<00:00,  5.89s/it, loss=4.45, v_num=ike2]"
     ]
    },
    {
     "name": "stderr",
     "output_type": "stream",
     "text": [
      "Epoch 14, global step 555: 'avg_val_loss' reached 1.25901 (best 1.25901), saving model to '/home/dennis/Desktop/Visual_QA_deep_learning/models/ViLT_ex4_simple_humanlike2-epoch=14-avg_val_loss=1.2590.ckpt' as top 1\n"
     ]
    },
    {
     "name": "stdout",
     "output_type": "stream",
     "text": [
      "Epoch 15: 100%|██████████| 41/41 [04:00<00:00,  5.88s/it, loss=3.99, v_num=ike2]"
     ]
    },
    {
     "name": "stderr",
     "output_type": "stream",
     "text": [
      "Metric avg_val_loss improved by 0.004 >= min_delta = 0.0. New best score: 1.255\n"
     ]
    },
    {
     "name": "stdout",
     "output_type": "stream",
     "text": [
      "Epoch 15: 100%|██████████| 41/41 [04:00<00:00,  5.88s/it, loss=3.99, v_num=ike2]"
     ]
    },
    {
     "name": "stderr",
     "output_type": "stream",
     "text": [
      "Epoch 15, global step 592: 'avg_val_loss' reached 1.25506 (best 1.25506), saving model to '/home/dennis/Desktop/Visual_QA_deep_learning/models/ViLT_ex4_simple_humanlike2-epoch=15-avg_val_loss=1.2551.ckpt' as top 1\n"
     ]
    },
    {
     "name": "stdout",
     "output_type": "stream",
     "text": [
      "Epoch 16: 100%|██████████| 41/41 [03:59<00:00,  5.84s/it, loss=3.56, v_num=ike2]"
     ]
    },
    {
     "name": "stderr",
     "output_type": "stream",
     "text": [
      "Metric avg_val_loss improved by 0.002 >= min_delta = 0.0. New best score: 1.253\n"
     ]
    },
    {
     "name": "stdout",
     "output_type": "stream",
     "text": [
      "Epoch 16: 100%|██████████| 41/41 [03:59<00:00,  5.84s/it, loss=3.56, v_num=ike2]"
     ]
    },
    {
     "name": "stderr",
     "output_type": "stream",
     "text": [
      "Epoch 16, global step 629: 'avg_val_loss' reached 1.25327 (best 1.25327), saving model to '/home/dennis/Desktop/Visual_QA_deep_learning/models/ViLT_ex4_simple_humanlike2-epoch=16-avg_val_loss=1.2533.ckpt' as top 1\n"
     ]
    },
    {
     "name": "stdout",
     "output_type": "stream",
     "text": [
      "Epoch 17: 100%|██████████| 41/41 [04:00<00:00,  5.87s/it, loss=2.96, v_num=ike2]"
     ]
    },
    {
     "name": "stderr",
     "output_type": "stream",
     "text": [
      "Metric avg_val_loss improved by 0.031 >= min_delta = 0.0. New best score: 1.222\n"
     ]
    },
    {
     "name": "stdout",
     "output_type": "stream",
     "text": [
      "Epoch 17: 100%|██████████| 41/41 [04:00<00:00,  5.87s/it, loss=2.96, v_num=ike2]"
     ]
    },
    {
     "name": "stderr",
     "output_type": "stream",
     "text": [
      "Epoch 17, global step 666: 'avg_val_loss' reached 1.22206 (best 1.22206), saving model to '/home/dennis/Desktop/Visual_QA_deep_learning/models/ViLT_ex4_simple_humanlike2-epoch=17-avg_val_loss=1.2221.ckpt' as top 1\n"
     ]
    },
    {
     "name": "stdout",
     "output_type": "stream",
     "text": [
      "Epoch 18: 100%|██████████| 41/41 [04:01<00:00,  5.89s/it, loss=2.77, v_num=ike2]"
     ]
    },
    {
     "name": "stderr",
     "output_type": "stream",
     "text": [
      "Metric avg_val_loss improved by 0.011 >= min_delta = 0.0. New best score: 1.212\n"
     ]
    },
    {
     "name": "stdout",
     "output_type": "stream",
     "text": [
      "Epoch 18: 100%|██████████| 41/41 [04:01<00:00,  5.89s/it, loss=2.77, v_num=ike2]"
     ]
    },
    {
     "name": "stderr",
     "output_type": "stream",
     "text": [
      "Epoch 18, global step 703: 'avg_val_loss' reached 1.21155 (best 1.21155), saving model to '/home/dennis/Desktop/Visual_QA_deep_learning/models/ViLT_ex4_simple_humanlike2-epoch=18-avg_val_loss=1.2116.ckpt' as top 1\n"
     ]
    },
    {
     "name": "stdout",
     "output_type": "stream",
     "text": [
      "Epoch 19: 100%|██████████| 41/41 [04:01<00:00,  5.89s/it, loss=2.28, v_num=ike2]"
     ]
    },
    {
     "name": "stderr",
     "output_type": "stream",
     "text": [
      "Epoch 19, global step 740: 'avg_val_loss' was not in top 1\n"
     ]
    },
    {
     "name": "stdout",
     "output_type": "stream",
     "text": [
      "Epoch 20: 100%|██████████| 41/41 [04:02<00:00,  5.92s/it, loss=2.1, v_num=ike2] "
     ]
    },
    {
     "name": "stderr",
     "output_type": "stream",
     "text": [
      "Epoch 20, global step 777: 'avg_val_loss' was not in top 1\n"
     ]
    },
    {
     "name": "stdout",
     "output_type": "stream",
     "text": [
      "Epoch 21: 100%|██████████| 41/41 [04:01<00:00,  5.89s/it, loss=2.16, v_num=ike2]"
     ]
    },
    {
     "name": "stderr",
     "output_type": "stream",
     "text": [
      "Metric avg_val_loss improved by 0.019 >= min_delta = 0.0. New best score: 1.193\n"
     ]
    },
    {
     "name": "stdout",
     "output_type": "stream",
     "text": [
      "Epoch 21: 100%|██████████| 41/41 [04:01<00:00,  5.89s/it, loss=2.16, v_num=ike2]"
     ]
    },
    {
     "name": "stderr",
     "output_type": "stream",
     "text": [
      "Epoch 21, global step 814: 'avg_val_loss' reached 1.19273 (best 1.19273), saving model to '/home/dennis/Desktop/Visual_QA_deep_learning/models/ViLT_ex4_simple_humanlike2-epoch=21-avg_val_loss=1.1927.ckpt' as top 1\n"
     ]
    },
    {
     "name": "stdout",
     "output_type": "stream",
     "text": [
      "Epoch 22: 100%|██████████| 41/41 [04:01<00:00,  5.90s/it, loss=1.93, v_num=ike2]"
     ]
    },
    {
     "name": "stderr",
     "output_type": "stream",
     "text": [
      "Epoch 22, global step 851: 'avg_val_loss' was not in top 1\n"
     ]
    },
    {
     "name": "stdout",
     "output_type": "stream",
     "text": [
      "Epoch 23: 100%|██████████| 41/41 [04:00<00:00,  5.87s/it, loss=1.96, v_num=ike2]"
     ]
    },
    {
     "name": "stderr",
     "output_type": "stream",
     "text": [
      "Epoch 23, global step 888: 'avg_val_loss' was not in top 1\n"
     ]
    },
    {
     "name": "stdout",
     "output_type": "stream",
     "text": [
      "Epoch 24: 100%|██████████| 41/41 [04:01<00:00,  5.88s/it, loss=1.89, v_num=ike2]"
     ]
    },
    {
     "name": "stderr",
     "output_type": "stream",
     "text": [
      "Epoch 24, global step 925: 'avg_val_loss' was not in top 1\n"
     ]
    },
    {
     "name": "stdout",
     "output_type": "stream",
     "text": [
      "Epoch 25: 100%|██████████| 41/41 [04:00<00:00,  5.87s/it, loss=1.67, v_num=ike2]"
     ]
    },
    {
     "name": "stderr",
     "output_type": "stream",
     "text": [
      "Epoch 25, global step 962: 'avg_val_loss' was not in top 1\n"
     ]
    },
    {
     "name": "stdout",
     "output_type": "stream",
     "text": [
      "Epoch 26: 100%|██████████| 41/41 [04:02<00:00,  5.91s/it, loss=1.65, v_num=ike2]"
     ]
    },
    {
     "name": "stderr",
     "output_type": "stream",
     "text": [
      "Epoch 26, global step 999: 'avg_val_loss' was not in top 1\n"
     ]
    },
    {
     "name": "stdout",
     "output_type": "stream",
     "text": [
      "Epoch 27: 100%|██████████| 41/41 [04:01<00:00,  5.88s/it, loss=1.69, v_num=ike2]"
     ]
    },
    {
     "name": "stderr",
     "output_type": "stream",
     "text": [
      "Metric avg_val_loss improved by 0.022 >= min_delta = 0.0. New best score: 1.171\n"
     ]
    },
    {
     "name": "stdout",
     "output_type": "stream",
     "text": [
      "Epoch 27: 100%|██████████| 41/41 [04:01<00:00,  5.88s/it, loss=1.69, v_num=ike2]"
     ]
    },
    {
     "name": "stderr",
     "output_type": "stream",
     "text": [
      "Epoch 27, global step 1036: 'avg_val_loss' reached 1.17060 (best 1.17060), saving model to '/home/dennis/Desktop/Visual_QA_deep_learning/models/ViLT_ex4_simple_humanlike2-epoch=27-avg_val_loss=1.1706.ckpt' as top 1\n"
     ]
    },
    {
     "name": "stdout",
     "output_type": "stream",
     "text": [
      "Epoch 28: 100%|██████████| 41/41 [04:01<00:00,  5.89s/it, loss=1.72, v_num=ike2]"
     ]
    },
    {
     "name": "stderr",
     "output_type": "stream",
     "text": [
      "Epoch 28, global step 1073: 'avg_val_loss' was not in top 1\n"
     ]
    },
    {
     "name": "stdout",
     "output_type": "stream",
     "text": [
      "Epoch 29: 100%|██████████| 41/41 [04:02<00:00,  5.91s/it, loss=1.75, v_num=ike2]"
     ]
    },
    {
     "name": "stderr",
     "output_type": "stream",
     "text": [
      "Epoch 29, global step 1110: 'avg_val_loss' was not in top 1\n"
     ]
    },
    {
     "name": "stdout",
     "output_type": "stream",
     "text": [
      "Epoch 30: 100%|██████████| 41/41 [04:01<00:00,  5.88s/it, loss=1.96, v_num=ike2]"
     ]
    },
    {
     "name": "stderr",
     "output_type": "stream",
     "text": [
      "Epoch 30, global step 1147: 'avg_val_loss' was not in top 1\n"
     ]
    },
    {
     "name": "stdout",
     "output_type": "stream",
     "text": [
      "Epoch 31: 100%|██████████| 41/41 [04:02<00:00,  5.91s/it, loss=1.76, v_num=ike2]"
     ]
    },
    {
     "name": "stderr",
     "output_type": "stream",
     "text": [
      "Epoch 31, global step 1184: 'avg_val_loss' was not in top 1\n"
     ]
    },
    {
     "name": "stdout",
     "output_type": "stream",
     "text": [
      "Epoch 32: 100%|██████████| 41/41 [04:02<00:00,  5.91s/it, loss=1.62, v_num=ike2]"
     ]
    },
    {
     "name": "stderr",
     "output_type": "stream",
     "text": [
      "Epoch 32, global step 1221: 'avg_val_loss' was not in top 1\n"
     ]
    },
    {
     "name": "stdout",
     "output_type": "stream",
     "text": [
      "Epoch 33: 100%|██████████| 41/41 [04:02<00:00,  5.90s/it, loss=1.61, v_num=ike2]"
     ]
    },
    {
     "name": "stderr",
     "output_type": "stream",
     "text": [
      "Epoch 33, global step 1258: 'avg_val_loss' was not in top 1\n"
     ]
    },
    {
     "name": "stdout",
     "output_type": "stream",
     "text": [
      "Epoch 34: 100%|██████████| 41/41 [04:02<00:00,  5.90s/it, loss=1.55, v_num=ike2]"
     ]
    },
    {
     "name": "stderr",
     "output_type": "stream",
     "text": [
      "Epoch 34, global step 1295: 'avg_val_loss' was not in top 1\n"
     ]
    },
    {
     "name": "stdout",
     "output_type": "stream",
     "text": [
      "Epoch 35: 100%|██████████| 41/41 [04:02<00:00,  5.91s/it, loss=1.28, v_num=ike2]"
     ]
    },
    {
     "name": "stderr",
     "output_type": "stream",
     "text": [
      "Monitored metric avg_val_loss did not improve in the last 8 records. Best score: 1.171. Signaling Trainer to stop.\n"
     ]
    },
    {
     "name": "stdout",
     "output_type": "stream",
     "text": [
      "Epoch 35: 100%|██████████| 41/41 [04:02<00:00,  5.91s/it, loss=1.28, v_num=ike2]"
     ]
    },
    {
     "name": "stderr",
     "output_type": "stream",
     "text": [
      "Epoch 35, global step 1332: 'avg_val_loss' was not in top 1\n"
     ]
    },
    {
     "name": "stdout",
     "output_type": "stream",
     "text": [
      "Epoch 35: 100%|██████████| 41/41 [04:02<00:00,  5.91s/it, loss=1.28, v_num=ike2]\n"
     ]
    }
   ],
   "source": [
    "hparams2 = asdict(HParams2())\n",
    "hparams2[\"prediction_strategy_top\"] = 1 # choose the number of k to use a top-k prediction method\n",
    "hparams2[\"embedding_strategy\"] = \"simple\" # choose between \"simple\" and \"with_type\"\n",
    "hparams2[\"loss_strategy\"] = \"human_like2\" # choose between \"simple\" and \"human_like1\" and \"human_like2\"\n",
    "data2 = VQA_DataModule2(hparams2, train_VQA, val_VQA, av_w2id, av_id2w)\n",
    "model_vilt = VQA_ViLT(hparams2)\n",
    "experiment_name = \"ViLT\"\n",
    "log_version = \"ex4_simple_humanlike2\"\n",
    "logger = CSVLogger(\"logs\", name=experiment_name, version=log_version)\n",
    "epochs = 100\n",
    "# we monitor and track avg_val_loss to save the best model and apply EarlyStopping\n",
    "metric_to_monitor = \"avg_val_loss\"\n",
    "mode = \"min\"  # you want to maximixe or minimize the metric?\n",
    "early_stop_callback = EarlyStopping(\n",
    "    monitor=metric_to_monitor, mode=mode, min_delta=0.00, patience=8, verbose=True)\n",
    "checkpoint_callback = ModelCheckpoint(\n",
    "    save_top_k=1,\n",
    "    monitor=metric_to_monitor,\n",
    "    mode=mode,\n",
    "    dirpath=\"models\",\n",
    "    filename=experiment_name+\"_\"+log_version+\"-{epoch:02d}-{avg_val_loss:.4f}\",\n",
    "    verbose=True\n",
    ")\n",
    "# the trainer collect all the useful informations so far for the training\n",
    "n_gpus = 1 if torch.cuda.is_available() else 0\n",
    "trainer_vilt = pl.Trainer(logger=logger,\n",
    "                     max_epochs=epochs,\n",
    "                     log_every_n_steps=1,\n",
    "                     gpus=n_gpus,\n",
    "                     callbacks=[early_stop_callback, checkpoint_callback],\n",
    "                     num_sanity_val_steps=0)\n",
    "trainer_vilt.fit(model_vilt,data2)"
   ]
  },
  {
   "cell_type": "code",
   "execution_count": 23,
   "metadata": {},
   "outputs": [
    {
     "name": "stderr",
     "output_type": "stream",
     "text": [
      "Some weights of the model checkpoint at dandelin/vilt-b32-finetuned-vqa were not used when initializing ViltModel: ['classifier.3.bias', 'classifier.0.bias', 'classifier.3.weight', 'classifier.0.weight', 'classifier.1.weight', 'classifier.1.bias']\n",
      "- This IS expected if you are initializing ViltModel from the checkpoint of a model trained on another task or with another architecture (e.g. initializing a BertForSequenceClassification model from a BertForPreTraining model).\n",
      "- This IS NOT expected if you are initializing ViltModel from the checkpoint of a model that you expect to be exactly identical (initializing a BertForSequenceClassification model from a BertForSequenceClassification model).\n",
      "GPU available: True, used: True\n",
      "TPU available: False, using: 0 TPU cores\n",
      "IPU available: False, using: 0 IPUs\n",
      "HPU available: False, using: 0 HPUs\n",
      "LOCAL_RANK: 0 - CUDA_VISIBLE_DEVICES: [0]\n",
      "\n",
      "  | Name       | Type       | Params\n",
      "------------------------------------------\n",
      "0 | vilt       | ViltModel  | 111 M \n",
      "1 | dropout    | Dropout    | 0     \n",
      "2 | classifier | Sequential | 2.7 M \n",
      "------------------------------------------\n",
      "16.8 M    Trainable params\n",
      "97.4 M    Non-trainable params\n",
      "114 M     Total params\n",
      "456.998   Total estimated model params size (MB)\n"
     ]
    },
    {
     "name": "stdout",
     "output_type": "stream",
     "text": [
      "Epoch 0: 100%|██████████| 41/41 [03:50<00:00,  5.61s/it, loss=3.57, v_num=top5]"
     ]
    },
    {
     "name": "stderr",
     "output_type": "stream",
     "text": [
      "Metric avg_val_loss improved. New best score: 2.574\n"
     ]
    },
    {
     "name": "stdout",
     "output_type": "stream",
     "text": [
      "Epoch 0: 100%|██████████| 41/41 [03:50<00:00,  5.61s/it, loss=3.57, v_num=top5]"
     ]
    },
    {
     "name": "stderr",
     "output_type": "stream",
     "text": [
      "Epoch 0, global step 37: 'avg_val_loss' reached 2.57409 (best 2.57409), saving model to '/home/dennis/Desktop/Visual_QA_deep_learning/models/ViLT_ex5_simple_top5-epoch=00-avg_val_loss=2.5741.ckpt' as top 1\n"
     ]
    },
    {
     "name": "stdout",
     "output_type": "stream",
     "text": [
      "Epoch 1: 100%|██████████| 41/41 [03:38<00:00,  5.34s/it, loss=2.75, v_num=top5]"
     ]
    },
    {
     "name": "stderr",
     "output_type": "stream",
     "text": [
      "Metric avg_val_loss improved by 0.405 >= min_delta = 0.0. New best score: 2.169\n"
     ]
    },
    {
     "name": "stdout",
     "output_type": "stream",
     "text": [
      "Epoch 1: 100%|██████████| 41/41 [03:38<00:00,  5.34s/it, loss=2.75, v_num=top5]"
     ]
    },
    {
     "name": "stderr",
     "output_type": "stream",
     "text": [
      "Epoch 1, global step 74: 'avg_val_loss' reached 2.16927 (best 2.16927), saving model to '/home/dennis/Desktop/Visual_QA_deep_learning/models/ViLT_ex5_simple_top5-epoch=01-avg_val_loss=2.1693.ckpt' as top 1\n"
     ]
    },
    {
     "name": "stdout",
     "output_type": "stream",
     "text": [
      "Epoch 2: 100%|██████████| 41/41 [03:25<00:00,  5.00s/it, loss=2.29, v_num=top5]"
     ]
    },
    {
     "name": "stderr",
     "output_type": "stream",
     "text": [
      "Metric avg_val_loss improved by 0.234 >= min_delta = 0.0. New best score: 1.935\n"
     ]
    },
    {
     "name": "stdout",
     "output_type": "stream",
     "text": [
      "Epoch 2: 100%|██████████| 41/41 [03:25<00:00,  5.00s/it, loss=2.29, v_num=top5]"
     ]
    },
    {
     "name": "stderr",
     "output_type": "stream",
     "text": [
      "Epoch 2, global step 111: 'avg_val_loss' reached 1.93529 (best 1.93529), saving model to '/home/dennis/Desktop/Visual_QA_deep_learning/models/ViLT_ex5_simple_top5-epoch=02-avg_val_loss=1.9353.ckpt' as top 1\n"
     ]
    },
    {
     "name": "stdout",
     "output_type": "stream",
     "text": [
      "Epoch 3: 100%|██████████| 41/41 [03:22<00:00,  4.94s/it, loss=1.9, v_num=top5] "
     ]
    },
    {
     "name": "stderr",
     "output_type": "stream",
     "text": [
      "Metric avg_val_loss improved by 0.233 >= min_delta = 0.0. New best score: 1.702\n"
     ]
    },
    {
     "name": "stdout",
     "output_type": "stream",
     "text": [
      "Epoch 3: 100%|██████████| 41/41 [03:22<00:00,  4.94s/it, loss=1.9, v_num=top5]"
     ]
    },
    {
     "name": "stderr",
     "output_type": "stream",
     "text": [
      "Epoch 3, global step 148: 'avg_val_loss' reached 1.70195 (best 1.70195), saving model to '/home/dennis/Desktop/Visual_QA_deep_learning/models/ViLT_ex5_simple_top5-epoch=03-avg_val_loss=1.7019.ckpt' as top 1\n"
     ]
    },
    {
     "name": "stdout",
     "output_type": "stream",
     "text": [
      "Epoch 4: 100%|██████████| 41/41 [03:19<00:00,  4.87s/it, loss=1.6, v_num=top5] "
     ]
    },
    {
     "name": "stderr",
     "output_type": "stream",
     "text": [
      "Metric avg_val_loss improved by 0.137 >= min_delta = 0.0. New best score: 1.565\n"
     ]
    },
    {
     "name": "stdout",
     "output_type": "stream",
     "text": [
      "Epoch 4: 100%|██████████| 41/41 [03:19<00:00,  4.87s/it, loss=1.6, v_num=top5]"
     ]
    },
    {
     "name": "stderr",
     "output_type": "stream",
     "text": [
      "Epoch 4, global step 185: 'avg_val_loss' reached 1.56462 (best 1.56462), saving model to '/home/dennis/Desktop/Visual_QA_deep_learning/models/ViLT_ex5_simple_top5-epoch=04-avg_val_loss=1.5646.ckpt' as top 1\n"
     ]
    },
    {
     "name": "stdout",
     "output_type": "stream",
     "text": [
      "Epoch 5: 100%|██████████| 41/41 [03:20<00:00,  4.89s/it, loss=1.39, v_num=top5]"
     ]
    },
    {
     "name": "stderr",
     "output_type": "stream",
     "text": [
      "Metric avg_val_loss improved by 0.072 >= min_delta = 0.0. New best score: 1.493\n"
     ]
    },
    {
     "name": "stdout",
     "output_type": "stream",
     "text": [
      "Epoch 5: 100%|██████████| 41/41 [03:20<00:00,  4.89s/it, loss=1.39, v_num=top5]"
     ]
    },
    {
     "name": "stderr",
     "output_type": "stream",
     "text": [
      "Epoch 5, global step 222: 'avg_val_loss' reached 1.49305 (best 1.49305), saving model to '/home/dennis/Desktop/Visual_QA_deep_learning/models/ViLT_ex5_simple_top5-epoch=05-avg_val_loss=1.4930.ckpt' as top 1\n"
     ]
    },
    {
     "name": "stdout",
     "output_type": "stream",
     "text": [
      "Epoch 6: 100%|██████████| 41/41 [03:21<00:00,  4.91s/it, loss=1.11, v_num=top5]"
     ]
    },
    {
     "name": "stderr",
     "output_type": "stream",
     "text": [
      "Metric avg_val_loss improved by 0.051 >= min_delta = 0.0. New best score: 1.442\n"
     ]
    },
    {
     "name": "stdout",
     "output_type": "stream",
     "text": [
      "Epoch 6: 100%|██████████| 41/41 [03:21<00:00,  4.91s/it, loss=1.11, v_num=top5]"
     ]
    },
    {
     "name": "stderr",
     "output_type": "stream",
     "text": [
      "Epoch 6, global step 259: 'avg_val_loss' reached 1.44215 (best 1.44215), saving model to '/home/dennis/Desktop/Visual_QA_deep_learning/models/ViLT_ex5_simple_top5-epoch=06-avg_val_loss=1.4421.ckpt' as top 1\n"
     ]
    },
    {
     "name": "stdout",
     "output_type": "stream",
     "text": [
      "Epoch 7: 100%|██████████| 41/41 [03:24<00:00,  4.98s/it, loss=1.04, v_num=top5]"
     ]
    },
    {
     "name": "stderr",
     "output_type": "stream",
     "text": [
      "Metric avg_val_loss improved by 0.011 >= min_delta = 0.0. New best score: 1.431\n"
     ]
    },
    {
     "name": "stdout",
     "output_type": "stream",
     "text": [
      "Epoch 7: 100%|██████████| 41/41 [03:24<00:00,  4.98s/it, loss=1.04, v_num=top5]"
     ]
    },
    {
     "name": "stderr",
     "output_type": "stream",
     "text": [
      "Epoch 7, global step 296: 'avg_val_loss' reached 1.43084 (best 1.43084), saving model to '/home/dennis/Desktop/Visual_QA_deep_learning/models/ViLT_ex5_simple_top5-epoch=07-avg_val_loss=1.4308.ckpt' as top 1\n"
     ]
    },
    {
     "name": "stdout",
     "output_type": "stream",
     "text": [
      "Epoch 8: 100%|██████████| 41/41 [03:21<00:00,  4.91s/it, loss=0.902, v_num=top5]"
     ]
    },
    {
     "name": "stderr",
     "output_type": "stream",
     "text": [
      "Epoch 8, global step 333: 'avg_val_loss' was not in top 1\n"
     ]
    },
    {
     "name": "stdout",
     "output_type": "stream",
     "text": [
      "Epoch 9: 100%|██████████| 41/41 [03:20<00:00,  4.89s/it, loss=0.789, v_num=top5]"
     ]
    },
    {
     "name": "stderr",
     "output_type": "stream",
     "text": [
      "Epoch 9, global step 370: 'avg_val_loss' was not in top 1\n"
     ]
    },
    {
     "name": "stdout",
     "output_type": "stream",
     "text": [
      "Epoch 10: 100%|██████████| 41/41 [03:20<00:00,  4.89s/it, loss=0.703, v_num=top5]"
     ]
    },
    {
     "name": "stderr",
     "output_type": "stream",
     "text": [
      "Epoch 10, global step 407: 'avg_val_loss' was not in top 1\n"
     ]
    },
    {
     "name": "stdout",
     "output_type": "stream",
     "text": [
      "Epoch 11: 100%|██████████| 41/41 [03:21<00:00,  4.90s/it, loss=0.57, v_num=top5] "
     ]
    },
    {
     "name": "stderr",
     "output_type": "stream",
     "text": [
      "Epoch 11, global step 444: 'avg_val_loss' was not in top 1\n"
     ]
    },
    {
     "name": "stdout",
     "output_type": "stream",
     "text": [
      "Epoch 12: 100%|██████████| 41/41 [03:22<00:00,  4.93s/it, loss=0.503, v_num=top5]"
     ]
    },
    {
     "name": "stderr",
     "output_type": "stream",
     "text": [
      "Epoch 12, global step 481: 'avg_val_loss' was not in top 1\n"
     ]
    },
    {
     "name": "stdout",
     "output_type": "stream",
     "text": [
      "Epoch 13: 100%|██████████| 41/41 [03:20<00:00,  4.90s/it, loss=0.468, v_num=top5]"
     ]
    },
    {
     "name": "stderr",
     "output_type": "stream",
     "text": [
      "Epoch 13, global step 518: 'avg_val_loss' was not in top 1\n"
     ]
    },
    {
     "name": "stdout",
     "output_type": "stream",
     "text": [
      "Epoch 14: 100%|██████████| 41/41 [03:20<00:00,  4.88s/it, loss=0.391, v_num=top5]"
     ]
    },
    {
     "name": "stderr",
     "output_type": "stream",
     "text": [
      "Epoch 14, global step 555: 'avg_val_loss' was not in top 1\n"
     ]
    },
    {
     "name": "stdout",
     "output_type": "stream",
     "text": [
      "Epoch 15: 100%|██████████| 41/41 [03:20<00:00,  4.90s/it, loss=0.391, v_num=top5]"
     ]
    },
    {
     "name": "stderr",
     "output_type": "stream",
     "text": [
      "Monitored metric avg_val_loss did not improve in the last 8 records. Best score: 1.431. Signaling Trainer to stop.\n"
     ]
    },
    {
     "name": "stdout",
     "output_type": "stream",
     "text": [
      "Epoch 15: 100%|██████████| 41/41 [03:20<00:00,  4.90s/it, loss=0.391, v_num=top5]"
     ]
    },
    {
     "name": "stderr",
     "output_type": "stream",
     "text": [
      "Epoch 15, global step 592: 'avg_val_loss' was not in top 1\n"
     ]
    },
    {
     "name": "stdout",
     "output_type": "stream",
     "text": [
      "Epoch 15: 100%|██████████| 41/41 [03:20<00:00,  4.90s/it, loss=0.391, v_num=top5]\n"
     ]
    }
   ],
   "source": [
    "hparams2 = asdict(HParams2())\n",
    "hparams2[\"prediction_strategy_top\"] = 5 # choose the number of k to use a top-k prediction method\n",
    "hparams2[\"embedding_strategy\"] = \"simple\" # choose between \"simple\" and \"with_type\"\n",
    "hparams2[\"loss_strategy\"] = \"simple\" # choose between \"simple\" and \"human_like1\" and \"human_like2\"\n",
    "data2 = VQA_DataModule2(hparams2, train_VQA, val_VQA, av_w2id, av_id2w)\n",
    "model_vilt = VQA_ViLT(hparams2)\n",
    "experiment_name = \"ViLT\"\n",
    "log_version = \"ex5_simple_top5\"\n",
    "logger = CSVLogger(\"logs\", name=experiment_name, version=log_version)\n",
    "epochs = 100\n",
    "# we monitor and track avg_val_loss to save the best model and apply EarlyStopping\n",
    "metric_to_monitor = \"avg_val_loss\"\n",
    "mode = \"min\"  # you want to maximixe or minimize the metric?\n",
    "early_stop_callback = EarlyStopping(\n",
    "    monitor=metric_to_monitor, mode=mode, min_delta=0.00, patience=8, verbose=True)\n",
    "checkpoint_callback = ModelCheckpoint(\n",
    "    save_top_k=1,\n",
    "    monitor=metric_to_monitor,\n",
    "    mode=mode,\n",
    "    dirpath=\"models\",\n",
    "    filename=experiment_name+\"_\"+log_version+\"-{epoch:02d}-{avg_val_loss:.4f}\",\n",
    "    verbose=True\n",
    ")\n",
    "# the trainer collect all the useful informations so far for the training\n",
    "n_gpus = 1 if torch.cuda.is_available() else 0\n",
    "trainer_vilt = pl.Trainer(logger=logger,\n",
    "                     max_epochs=epochs,\n",
    "                     log_every_n_steps=1,\n",
    "                     gpus=n_gpus,\n",
    "                     callbacks=[early_stop_callback, checkpoint_callback],\n",
    "                     num_sanity_val_steps=0)\n",
    "trainer_vilt.fit(model_vilt,data2)"
   ]
  },
  {
   "cell_type": "code",
   "execution_count": 24,
   "metadata": {},
   "outputs": [
    {
     "name": "stderr",
     "output_type": "stream",
     "text": [
      "Some weights of the model checkpoint at dandelin/vilt-b32-finetuned-vqa were not used when initializing ViltModel: ['classifier.3.bias', 'classifier.0.bias', 'classifier.3.weight', 'classifier.0.weight', 'classifier.1.weight', 'classifier.1.bias']\n",
      "- This IS expected if you are initializing ViltModel from the checkpoint of a model trained on another task or with another architecture (e.g. initializing a BertForSequenceClassification model from a BertForPreTraining model).\n",
      "- This IS NOT expected if you are initializing ViltModel from the checkpoint of a model that you expect to be exactly identical (initializing a BertForSequenceClassification model from a BertForSequenceClassification model).\n",
      "GPU available: True, used: True\n",
      "TPU available: False, using: 0 TPU cores\n",
      "IPU available: False, using: 0 IPUs\n",
      "HPU available: False, using: 0 HPUs\n",
      "LOCAL_RANK: 0 - CUDA_VISIBLE_DEVICES: [0]\n",
      "\n",
      "  | Name       | Type       | Params\n",
      "------------------------------------------\n",
      "0 | vilt       | ViltModel  | 111 M \n",
      "1 | dropout    | Dropout    | 0     \n",
      "2 | classifier | Sequential | 2.7 M \n",
      "------------------------------------------\n",
      "16.8 M    Trainable params\n",
      "97.4 M    Non-trainable params\n",
      "114 M     Total params\n",
      "456.998   Total estimated model params size (MB)\n"
     ]
    },
    {
     "name": "stdout",
     "output_type": "stream",
     "text": [
      "Epoch 0: 100%|██████████| 41/41 [03:25<00:00,  5.02s/it, loss=5.7, v_num=top5] "
     ]
    },
    {
     "name": "stderr",
     "output_type": "stream",
     "text": [
      "Metric avg_val_loss improved. New best score: 2.656\n"
     ]
    },
    {
     "name": "stdout",
     "output_type": "stream",
     "text": [
      "Epoch 0: 100%|██████████| 41/41 [03:25<00:00,  5.02s/it, loss=5.7, v_num=top5]"
     ]
    },
    {
     "name": "stderr",
     "output_type": "stream",
     "text": [
      "Epoch 0, global step 37: 'avg_val_loss' reached 2.65597 (best 2.65597), saving model to '/home/dennis/Desktop/Visual_QA_deep_learning/models/ViLT_ex6_with_type_humanlike1_top5-epoch=00-avg_val_loss=2.6560.ckpt' as top 1\n"
     ]
    },
    {
     "name": "stdout",
     "output_type": "stream",
     "text": [
      "Epoch 1: 100%|██████████| 41/41 [03:23<00:00,  4.96s/it, loss=5.67, v_num=top5]"
     ]
    },
    {
     "name": "stderr",
     "output_type": "stream",
     "text": [
      "Metric avg_val_loss improved by 0.333 >= min_delta = 0.0. New best score: 2.323\n"
     ]
    },
    {
     "name": "stdout",
     "output_type": "stream",
     "text": [
      "Epoch 1: 100%|██████████| 41/41 [03:23<00:00,  4.96s/it, loss=5.67, v_num=top5]"
     ]
    },
    {
     "name": "stderr",
     "output_type": "stream",
     "text": [
      "Epoch 1, global step 74: 'avg_val_loss' reached 2.32323 (best 2.32323), saving model to '/home/dennis/Desktop/Visual_QA_deep_learning/models/ViLT_ex6_with_type_humanlike1_top5-epoch=01-avg_val_loss=2.3232.ckpt' as top 1\n"
     ]
    },
    {
     "name": "stdout",
     "output_type": "stream",
     "text": [
      "Epoch 2: 100%|██████████| 41/41 [03:19<00:00,  4.87s/it, loss=5.64, v_num=top5]"
     ]
    },
    {
     "name": "stderr",
     "output_type": "stream",
     "text": [
      "Metric avg_val_loss improved by 0.320 >= min_delta = 0.0. New best score: 2.003\n"
     ]
    },
    {
     "name": "stdout",
     "output_type": "stream",
     "text": [
      "Epoch 2: 100%|██████████| 41/41 [03:19<00:00,  4.87s/it, loss=5.64, v_num=top5]"
     ]
    },
    {
     "name": "stderr",
     "output_type": "stream",
     "text": [
      "Epoch 2, global step 111: 'avg_val_loss' reached 2.00286 (best 2.00286), saving model to '/home/dennis/Desktop/Visual_QA_deep_learning/models/ViLT_ex6_with_type_humanlike1_top5-epoch=02-avg_val_loss=2.0029.ckpt' as top 1\n"
     ]
    },
    {
     "name": "stdout",
     "output_type": "stream",
     "text": [
      "Epoch 3: 100%|██████████| 41/41 [03:20<00:00,  4.88s/it, loss=5.51, v_num=top5]"
     ]
    },
    {
     "name": "stderr",
     "output_type": "stream",
     "text": [
      "Metric avg_val_loss improved by 0.091 >= min_delta = 0.0. New best score: 1.912\n"
     ]
    },
    {
     "name": "stdout",
     "output_type": "stream",
     "text": [
      "Epoch 3: 100%|██████████| 41/41 [03:20<00:00,  4.89s/it, loss=5.51, v_num=top5]"
     ]
    },
    {
     "name": "stderr",
     "output_type": "stream",
     "text": [
      "Epoch 3, global step 148: 'avg_val_loss' reached 1.91180 (best 1.91180), saving model to '/home/dennis/Desktop/Visual_QA_deep_learning/models/ViLT_ex6_with_type_humanlike1_top5-epoch=03-avg_val_loss=1.9118.ckpt' as top 1\n"
     ]
    },
    {
     "name": "stdout",
     "output_type": "stream",
     "text": [
      "Epoch 4: 100%|██████████| 41/41 [03:20<00:00,  4.89s/it, loss=5.4, v_num=top5] "
     ]
    },
    {
     "name": "stderr",
     "output_type": "stream",
     "text": [
      "Metric avg_val_loss improved by 0.145 >= min_delta = 0.0. New best score: 1.767\n"
     ]
    },
    {
     "name": "stdout",
     "output_type": "stream",
     "text": [
      "Epoch 4: 100%|██████████| 41/41 [03:20<00:00,  4.89s/it, loss=5.4, v_num=top5]"
     ]
    },
    {
     "name": "stderr",
     "output_type": "stream",
     "text": [
      "Epoch 4, global step 185: 'avg_val_loss' reached 1.76671 (best 1.76671), saving model to '/home/dennis/Desktop/Visual_QA_deep_learning/models/ViLT_ex6_with_type_humanlike1_top5-epoch=04-avg_val_loss=1.7667.ckpt' as top 1\n"
     ]
    },
    {
     "name": "stdout",
     "output_type": "stream",
     "text": [
      "Epoch 5: 100%|██████████| 41/41 [03:20<00:00,  4.89s/it, loss=5.37, v_num=top5]"
     ]
    },
    {
     "name": "stderr",
     "output_type": "stream",
     "text": [
      "Metric avg_val_loss improved by 0.123 >= min_delta = 0.0. New best score: 1.643\n"
     ]
    },
    {
     "name": "stdout",
     "output_type": "stream",
     "text": [
      "Epoch 5: 100%|██████████| 41/41 [03:20<00:00,  4.89s/it, loss=5.37, v_num=top5]"
     ]
    },
    {
     "name": "stderr",
     "output_type": "stream",
     "text": [
      "Epoch 5, global step 222: 'avg_val_loss' reached 1.64350 (best 1.64350), saving model to '/home/dennis/Desktop/Visual_QA_deep_learning/models/ViLT_ex6_with_type_humanlike1_top5-epoch=05-avg_val_loss=1.6435.ckpt' as top 1\n"
     ]
    },
    {
     "name": "stdout",
     "output_type": "stream",
     "text": [
      "Epoch 6: 100%|██████████| 41/41 [03:20<00:00,  4.88s/it, loss=5.23, v_num=top5]"
     ]
    },
    {
     "name": "stderr",
     "output_type": "stream",
     "text": [
      "Metric avg_val_loss improved by 0.085 >= min_delta = 0.0. New best score: 1.558\n"
     ]
    },
    {
     "name": "stdout",
     "output_type": "stream",
     "text": [
      "Epoch 6: 100%|██████████| 41/41 [03:20<00:00,  4.88s/it, loss=5.23, v_num=top5]"
     ]
    },
    {
     "name": "stderr",
     "output_type": "stream",
     "text": [
      "Epoch 6, global step 259: 'avg_val_loss' reached 1.55849 (best 1.55849), saving model to '/home/dennis/Desktop/Visual_QA_deep_learning/models/ViLT_ex6_with_type_humanlike1_top5-epoch=06-avg_val_loss=1.5585.ckpt' as top 1\n"
     ]
    },
    {
     "name": "stdout",
     "output_type": "stream",
     "text": [
      "Epoch 7: 100%|██████████| 41/41 [03:19<00:00,  4.88s/it, loss=5.23, v_num=top5]"
     ]
    },
    {
     "name": "stderr",
     "output_type": "stream",
     "text": [
      "Metric avg_val_loss improved by 0.064 >= min_delta = 0.0. New best score: 1.495\n"
     ]
    },
    {
     "name": "stdout",
     "output_type": "stream",
     "text": [
      "Epoch 7: 100%|██████████| 41/41 [03:19<00:00,  4.88s/it, loss=5.23, v_num=top5]"
     ]
    },
    {
     "name": "stderr",
     "output_type": "stream",
     "text": [
      "Epoch 7, global step 296: 'avg_val_loss' reached 1.49467 (best 1.49467), saving model to '/home/dennis/Desktop/Visual_QA_deep_learning/models/ViLT_ex6_with_type_humanlike1_top5-epoch=07-avg_val_loss=1.4947.ckpt' as top 1\n"
     ]
    },
    {
     "name": "stdout",
     "output_type": "stream",
     "text": [
      "Epoch 8: 100%|██████████| 41/41 [03:20<00:00,  4.89s/it, loss=5.03, v_num=top5]"
     ]
    },
    {
     "name": "stderr",
     "output_type": "stream",
     "text": [
      "Metric avg_val_loss improved by 0.038 >= min_delta = 0.0. New best score: 1.457\n"
     ]
    },
    {
     "name": "stdout",
     "output_type": "stream",
     "text": [
      "Epoch 8: 100%|██████████| 41/41 [03:20<00:00,  4.89s/it, loss=5.03, v_num=top5]"
     ]
    },
    {
     "name": "stderr",
     "output_type": "stream",
     "text": [
      "Epoch 8, global step 333: 'avg_val_loss' reached 1.45711 (best 1.45711), saving model to '/home/dennis/Desktop/Visual_QA_deep_learning/models/ViLT_ex6_with_type_humanlike1_top5-epoch=08-avg_val_loss=1.4571.ckpt' as top 1\n"
     ]
    },
    {
     "name": "stdout",
     "output_type": "stream",
     "text": [
      "Epoch 9: 100%|██████████| 41/41 [03:21<00:00,  4.91s/it, loss=5.04, v_num=top5]"
     ]
    },
    {
     "name": "stderr",
     "output_type": "stream",
     "text": [
      "Metric avg_val_loss improved by 0.038 >= min_delta = 0.0. New best score: 1.419\n"
     ]
    },
    {
     "name": "stdout",
     "output_type": "stream",
     "text": [
      "Epoch 9: 100%|██████████| 41/41 [03:21<00:00,  4.91s/it, loss=5.04, v_num=top5]"
     ]
    },
    {
     "name": "stderr",
     "output_type": "stream",
     "text": [
      "Epoch 9, global step 370: 'avg_val_loss' reached 1.41933 (best 1.41933), saving model to '/home/dennis/Desktop/Visual_QA_deep_learning/models/ViLT_ex6_with_type_humanlike1_top5-epoch=09-avg_val_loss=1.4193.ckpt' as top 1\n"
     ]
    },
    {
     "name": "stdout",
     "output_type": "stream",
     "text": [
      "Epoch 10: 100%|██████████| 41/41 [03:21<00:00,  4.92s/it, loss=5, v_num=top5]   "
     ]
    },
    {
     "name": "stderr",
     "output_type": "stream",
     "text": [
      "Metric avg_val_loss improved by 0.053 >= min_delta = 0.0. New best score: 1.366\n"
     ]
    },
    {
     "name": "stdout",
     "output_type": "stream",
     "text": [
      "Epoch 10: 100%|██████████| 41/41 [03:21<00:00,  4.92s/it, loss=5, v_num=top5]"
     ]
    },
    {
     "name": "stderr",
     "output_type": "stream",
     "text": [
      "Epoch 10, global step 407: 'avg_val_loss' reached 1.36599 (best 1.36599), saving model to '/home/dennis/Desktop/Visual_QA_deep_learning/models/ViLT_ex6_with_type_humanlike1_top5-epoch=10-avg_val_loss=1.3660.ckpt' as top 1\n"
     ]
    },
    {
     "name": "stdout",
     "output_type": "stream",
     "text": [
      "Epoch 11: 100%|██████████| 41/41 [03:22<00:00,  4.94s/it, loss=5.08, v_num=top5]"
     ]
    },
    {
     "name": "stderr",
     "output_type": "stream",
     "text": [
      "Metric avg_val_loss improved by 0.026 >= min_delta = 0.0. New best score: 1.340\n"
     ]
    },
    {
     "name": "stdout",
     "output_type": "stream",
     "text": [
      "Epoch 11: 100%|██████████| 41/41 [03:22<00:00,  4.94s/it, loss=5.08, v_num=top5]"
     ]
    },
    {
     "name": "stderr",
     "output_type": "stream",
     "text": [
      "Epoch 11, global step 444: 'avg_val_loss' reached 1.33966 (best 1.33966), saving model to '/home/dennis/Desktop/Visual_QA_deep_learning/models/ViLT_ex6_with_type_humanlike1_top5-epoch=11-avg_val_loss=1.3397.ckpt' as top 1\n"
     ]
    },
    {
     "name": "stdout",
     "output_type": "stream",
     "text": [
      "Epoch 12: 100%|██████████| 41/41 [03:21<00:00,  4.91s/it, loss=5.09, v_num=top5]"
     ]
    },
    {
     "name": "stderr",
     "output_type": "stream",
     "text": [
      "Epoch 12, global step 481: 'avg_val_loss' was not in top 1\n"
     ]
    },
    {
     "name": "stdout",
     "output_type": "stream",
     "text": [
      "Epoch 13: 100%|██████████| 41/41 [03:19<00:00,  4.87s/it, loss=4.8, v_num=top5] "
     ]
    },
    {
     "name": "stderr",
     "output_type": "stream",
     "text": [
      "Metric avg_val_loss improved by 0.014 >= min_delta = 0.0. New best score: 1.325\n"
     ]
    },
    {
     "name": "stdout",
     "output_type": "stream",
     "text": [
      "Epoch 13: 100%|██████████| 41/41 [03:19<00:00,  4.88s/it, loss=4.8, v_num=top5]"
     ]
    },
    {
     "name": "stderr",
     "output_type": "stream",
     "text": [
      "Epoch 13, global step 518: 'avg_val_loss' reached 1.32540 (best 1.32540), saving model to '/home/dennis/Desktop/Visual_QA_deep_learning/models/ViLT_ex6_with_type_humanlike1_top5-epoch=13-avg_val_loss=1.3254.ckpt' as top 1\n"
     ]
    },
    {
     "name": "stdout",
     "output_type": "stream",
     "text": [
      "Epoch 14: 100%|██████████| 41/41 [03:21<00:00,  4.90s/it, loss=4.48, v_num=top5]"
     ]
    },
    {
     "name": "stderr",
     "output_type": "stream",
     "text": [
      "Metric avg_val_loss improved by 0.028 >= min_delta = 0.0. New best score: 1.297\n"
     ]
    },
    {
     "name": "stdout",
     "output_type": "stream",
     "text": [
      "Epoch 14: 100%|██████████| 41/41 [03:21<00:00,  4.91s/it, loss=4.48, v_num=top5]"
     ]
    },
    {
     "name": "stderr",
     "output_type": "stream",
     "text": [
      "Epoch 14, global step 555: 'avg_val_loss' reached 1.29702 (best 1.29702), saving model to '/home/dennis/Desktop/Visual_QA_deep_learning/models/ViLT_ex6_with_type_humanlike1_top5-epoch=14-avg_val_loss=1.2970.ckpt' as top 1\n"
     ]
    },
    {
     "name": "stdout",
     "output_type": "stream",
     "text": [
      "Epoch 15: 100%|██████████| 41/41 [03:20<00:00,  4.90s/it, loss=4.06, v_num=top5]"
     ]
    },
    {
     "name": "stderr",
     "output_type": "stream",
     "text": [
      "Metric avg_val_loss improved by 0.013 >= min_delta = 0.0. New best score: 1.284\n"
     ]
    },
    {
     "name": "stdout",
     "output_type": "stream",
     "text": [
      "Epoch 15: 100%|██████████| 41/41 [03:20<00:00,  4.90s/it, loss=4.06, v_num=top5]"
     ]
    },
    {
     "name": "stderr",
     "output_type": "stream",
     "text": [
      "Epoch 15, global step 592: 'avg_val_loss' reached 1.28418 (best 1.28418), saving model to '/home/dennis/Desktop/Visual_QA_deep_learning/models/ViLT_ex6_with_type_humanlike1_top5-epoch=15-avg_val_loss=1.2842.ckpt' as top 1\n"
     ]
    },
    {
     "name": "stdout",
     "output_type": "stream",
     "text": [
      "Epoch 16: 100%|██████████| 41/41 [03:21<00:00,  4.91s/it, loss=3.67, v_num=top5]"
     ]
    },
    {
     "name": "stderr",
     "output_type": "stream",
     "text": [
      "Epoch 16, global step 629: 'avg_val_loss' was not in top 1\n"
     ]
    },
    {
     "name": "stdout",
     "output_type": "stream",
     "text": [
      "Epoch 17: 100%|██████████| 41/41 [03:21<00:00,  4.90s/it, loss=3.28, v_num=top5]"
     ]
    },
    {
     "name": "stderr",
     "output_type": "stream",
     "text": [
      "Epoch 17, global step 666: 'avg_val_loss' was not in top 1\n"
     ]
    },
    {
     "name": "stdout",
     "output_type": "stream",
     "text": [
      "Epoch 18: 100%|██████████| 41/41 [03:20<00:00,  4.90s/it, loss=3.31, v_num=top5]"
     ]
    },
    {
     "name": "stderr",
     "output_type": "stream",
     "text": [
      "Epoch 18, global step 703: 'avg_val_loss' was not in top 1\n"
     ]
    },
    {
     "name": "stdout",
     "output_type": "stream",
     "text": [
      "Epoch 19: 100%|██████████| 41/41 [03:21<00:00,  4.90s/it, loss=3.24, v_num=top5]"
     ]
    },
    {
     "name": "stderr",
     "output_type": "stream",
     "text": [
      "Epoch 19, global step 740: 'avg_val_loss' was not in top 1\n"
     ]
    },
    {
     "name": "stdout",
     "output_type": "stream",
     "text": [
      "Epoch 20: 100%|██████████| 41/41 [03:20<00:00,  4.89s/it, loss=3, v_num=top5]   "
     ]
    },
    {
     "name": "stderr",
     "output_type": "stream",
     "text": [
      "Epoch 20, global step 777: 'avg_val_loss' was not in top 1\n"
     ]
    },
    {
     "name": "stdout",
     "output_type": "stream",
     "text": [
      "Epoch 21: 100%|██████████| 41/41 [03:20<00:00,  4.88s/it, loss=3.05, v_num=top5]"
     ]
    },
    {
     "name": "stderr",
     "output_type": "stream",
     "text": [
      "Epoch 21, global step 814: 'avg_val_loss' was not in top 1\n"
     ]
    },
    {
     "name": "stdout",
     "output_type": "stream",
     "text": [
      "Epoch 22: 100%|██████████| 41/41 [03:23<00:00,  4.96s/it, loss=2.8, v_num=top5] "
     ]
    },
    {
     "name": "stderr",
     "output_type": "stream",
     "text": [
      "Epoch 22, global step 851: 'avg_val_loss' was not in top 1\n"
     ]
    },
    {
     "name": "stdout",
     "output_type": "stream",
     "text": [
      "Epoch 23: 100%|██████████| 41/41 [03:20<00:00,  4.88s/it, loss=2.72, v_num=top5]"
     ]
    },
    {
     "name": "stderr",
     "output_type": "stream",
     "text": [
      "Monitored metric avg_val_loss did not improve in the last 8 records. Best score: 1.284. Signaling Trainer to stop.\n"
     ]
    },
    {
     "name": "stdout",
     "output_type": "stream",
     "text": [
      "Epoch 23: 100%|██████████| 41/41 [03:20<00:00,  4.88s/it, loss=2.72, v_num=top5]"
     ]
    },
    {
     "name": "stderr",
     "output_type": "stream",
     "text": [
      "Epoch 23, global step 888: 'avg_val_loss' was not in top 1\n"
     ]
    },
    {
     "name": "stdout",
     "output_type": "stream",
     "text": [
      "Epoch 23: 100%|██████████| 41/41 [03:20<00:00,  4.88s/it, loss=2.72, v_num=top5]\n"
     ]
    }
   ],
   "source": [
    "hparams2 = asdict(HParams2())\n",
    "hparams2[\"prediction_strategy_top\"] = 5 # choose the number of k to use a top-k prediction method\n",
    "hparams2[\"embedding_strategy\"] = \"with_type\" # choose between \"simple\" and \"with_type\"\n",
    "hparams2[\"loss_strategy\"] = \"human_like1\" # choose between \"simple\" and \"human_like1\" and \"human_like2\"\n",
    "data2 = VQA_DataModule2(hparams2, train_VQA, val_VQA, av_w2id, av_id2w)\n",
    "model_vilt = VQA_ViLT(hparams2)\n",
    "experiment_name = \"ViLT\"\n",
    "log_version = \"ex6_with_type_humanlike1_top5\"\n",
    "logger = CSVLogger(\"logs\", name=experiment_name, version=log_version)\n",
    "epochs = 100\n",
    "# we monitor and track avg_val_loss to save the best model and apply EarlyStopping\n",
    "metric_to_monitor = \"avg_val_loss\"\n",
    "mode = \"min\"  # you want to maximixe or minimize the metric?\n",
    "early_stop_callback = EarlyStopping(\n",
    "    monitor=metric_to_monitor, mode=mode, min_delta=0.00, patience=8, verbose=True)\n",
    "checkpoint_callback = ModelCheckpoint(\n",
    "    save_top_k=1,\n",
    "    monitor=metric_to_monitor,\n",
    "    mode=mode,\n",
    "    dirpath=\"models\",\n",
    "    filename=experiment_name+\"_\"+log_version+\"-{epoch:02d}-{avg_val_loss:.4f}\",\n",
    "    verbose=True\n",
    ")\n",
    "# the trainer collect all the useful informations so far for the training\n",
    "n_gpus = 1 if torch.cuda.is_available() else 0\n",
    "trainer_vilt = pl.Trainer(logger=logger,\n",
    "                     max_epochs=epochs,\n",
    "                     log_every_n_steps=1,\n",
    "                     gpus=n_gpus,\n",
    "                     callbacks=[early_stop_callback, checkpoint_callback],\n",
    "                     num_sanity_val_steps=0)\n",
    "trainer_vilt.fit(model_vilt,data2)"
   ]
  },
  {
   "cell_type": "code",
   "execution_count": 25,
   "metadata": {},
   "outputs": [
    {
     "name": "stderr",
     "output_type": "stream",
     "text": [
      "Some weights of the model checkpoint at dandelin/vilt-b32-finetuned-vqa were not used when initializing ViltModel: ['classifier.3.bias', 'classifier.0.bias', 'classifier.3.weight', 'classifier.0.weight', 'classifier.1.weight', 'classifier.1.bias']\n",
      "- This IS expected if you are initializing ViltModel from the checkpoint of a model trained on another task or with another architecture (e.g. initializing a BertForSequenceClassification model from a BertForPreTraining model).\n",
      "- This IS NOT expected if you are initializing ViltModel from the checkpoint of a model that you expect to be exactly identical (initializing a BertForSequenceClassification model from a BertForSequenceClassification model).\n",
      "GPU available: True, used: True\n",
      "TPU available: False, using: 0 TPU cores\n",
      "IPU available: False, using: 0 IPUs\n",
      "HPU available: False, using: 0 HPUs\n",
      "LOCAL_RANK: 0 - CUDA_VISIBLE_DEVICES: [0]\n",
      "\n",
      "  | Name       | Type       | Params\n",
      "------------------------------------------\n",
      "0 | vilt       | ViltModel  | 111 M \n",
      "1 | dropout    | Dropout    | 0     \n",
      "2 | classifier | Sequential | 2.7 M \n",
      "------------------------------------------\n",
      "16.8 M    Trainable params\n",
      "97.4 M    Non-trainable params\n",
      "114 M     Total params\n",
      "456.998   Total estimated model params size (MB)\n"
     ]
    },
    {
     "name": "stdout",
     "output_type": "stream",
     "text": [
      "Epoch 0: 100%|██████████| 41/41 [04:10<00:00,  6.11s/it, loss=5.85, v_num=top1]"
     ]
    },
    {
     "name": "stderr",
     "output_type": "stream",
     "text": [
      "Metric avg_val_loss improved. New best score: 2.595\n"
     ]
    },
    {
     "name": "stdout",
     "output_type": "stream",
     "text": [
      "Epoch 0: 100%|██████████| 41/41 [04:10<00:00,  6.11s/it, loss=5.85, v_num=top1]"
     ]
    },
    {
     "name": "stderr",
     "output_type": "stream",
     "text": [
      "Epoch 0, global step 37: 'avg_val_loss' reached 2.59549 (best 2.59549), saving model to '/home/dennis/Desktop/Visual_QA_deep_learning/models/ViLT_ex7_with_type_humanlike1_top1-epoch=00-avg_val_loss=2.5955.ckpt' as top 1\n"
     ]
    },
    {
     "name": "stdout",
     "output_type": "stream",
     "text": [
      "Epoch 1: 100%|██████████| 41/41 [04:05<00:00,  6.00s/it, loss=5.62, v_num=top1]"
     ]
    },
    {
     "name": "stderr",
     "output_type": "stream",
     "text": [
      "Metric avg_val_loss improved by 0.396 >= min_delta = 0.0. New best score: 2.199\n"
     ]
    },
    {
     "name": "stdout",
     "output_type": "stream",
     "text": [
      "Epoch 1: 100%|██████████| 41/41 [04:05<00:00,  6.00s/it, loss=5.62, v_num=top1]"
     ]
    },
    {
     "name": "stderr",
     "output_type": "stream",
     "text": [
      "Epoch 1, global step 74: 'avg_val_loss' reached 2.19921 (best 2.19921), saving model to '/home/dennis/Desktop/Visual_QA_deep_learning/models/ViLT_ex7_with_type_humanlike1_top1-epoch=01-avg_val_loss=2.1992.ckpt' as top 1\n"
     ]
    },
    {
     "name": "stdout",
     "output_type": "stream",
     "text": [
      "Epoch 2: 100%|██████████| 41/41 [04:03<00:00,  5.94s/it, loss=5.61, v_num=top1]"
     ]
    },
    {
     "name": "stderr",
     "output_type": "stream",
     "text": [
      "Metric avg_val_loss improved by 0.230 >= min_delta = 0.0. New best score: 1.970\n"
     ]
    },
    {
     "name": "stdout",
     "output_type": "stream",
     "text": [
      "Epoch 2: 100%|██████████| 41/41 [04:03<00:00,  5.94s/it, loss=5.61, v_num=top1]"
     ]
    },
    {
     "name": "stderr",
     "output_type": "stream",
     "text": [
      "Epoch 2, global step 111: 'avg_val_loss' reached 1.96967 (best 1.96967), saving model to '/home/dennis/Desktop/Visual_QA_deep_learning/models/ViLT_ex7_with_type_humanlike1_top1-epoch=02-avg_val_loss=1.9697.ckpt' as top 1\n"
     ]
    },
    {
     "name": "stdout",
     "output_type": "stream",
     "text": [
      "Epoch 3: 100%|██████████| 41/41 [04:03<00:00,  5.93s/it, loss=5.55, v_num=top1]"
     ]
    },
    {
     "name": "stderr",
     "output_type": "stream",
     "text": [
      "Metric avg_val_loss improved by 0.134 >= min_delta = 0.0. New best score: 1.836\n"
     ]
    },
    {
     "name": "stdout",
     "output_type": "stream",
     "text": [
      "Epoch 3: 100%|██████████| 41/41 [04:03<00:00,  5.93s/it, loss=5.55, v_num=top1]"
     ]
    },
    {
     "name": "stderr",
     "output_type": "stream",
     "text": [
      "Epoch 3, global step 148: 'avg_val_loss' reached 1.83559 (best 1.83559), saving model to '/home/dennis/Desktop/Visual_QA_deep_learning/models/ViLT_ex7_with_type_humanlike1_top1-epoch=03-avg_val_loss=1.8356.ckpt' as top 1\n"
     ]
    },
    {
     "name": "stdout",
     "output_type": "stream",
     "text": [
      "Epoch 4: 100%|██████████| 41/41 [04:03<00:00,  5.95s/it, loss=5.56, v_num=top1]"
     ]
    },
    {
     "name": "stderr",
     "output_type": "stream",
     "text": [
      "Metric avg_val_loss improved by 0.096 >= min_delta = 0.0. New best score: 1.739\n"
     ]
    },
    {
     "name": "stdout",
     "output_type": "stream",
     "text": [
      "Epoch 4: 100%|██████████| 41/41 [04:04<00:00,  5.95s/it, loss=5.56, v_num=top1]"
     ]
    },
    {
     "name": "stderr",
     "output_type": "stream",
     "text": [
      "Epoch 4, global step 185: 'avg_val_loss' reached 1.73923 (best 1.73923), saving model to '/home/dennis/Desktop/Visual_QA_deep_learning/models/ViLT_ex7_with_type_humanlike1_top1-epoch=04-avg_val_loss=1.7392.ckpt' as top 1\n"
     ]
    },
    {
     "name": "stdout",
     "output_type": "stream",
     "text": [
      "Epoch 5: 100%|██████████| 41/41 [04:03<00:00,  5.94s/it, loss=5.43, v_num=top1]"
     ]
    },
    {
     "name": "stderr",
     "output_type": "stream",
     "text": [
      "Metric avg_val_loss improved by 0.086 >= min_delta = 0.0. New best score: 1.653\n"
     ]
    },
    {
     "name": "stdout",
     "output_type": "stream",
     "text": [
      "Epoch 5: 100%|██████████| 41/41 [04:03<00:00,  5.94s/it, loss=5.43, v_num=top1]"
     ]
    },
    {
     "name": "stderr",
     "output_type": "stream",
     "text": [
      "Epoch 5, global step 222: 'avg_val_loss' reached 1.65328 (best 1.65328), saving model to '/home/dennis/Desktop/Visual_QA_deep_learning/models/ViLT_ex7_with_type_humanlike1_top1-epoch=05-avg_val_loss=1.6533.ckpt' as top 1\n"
     ]
    },
    {
     "name": "stdout",
     "output_type": "stream",
     "text": [
      "Epoch 6: 100%|██████████| 41/41 [03:51<00:00,  5.65s/it, loss=5.3, v_num=top1] "
     ]
    },
    {
     "name": "stderr",
     "output_type": "stream",
     "text": [
      "Metric avg_val_loss improved by 0.118 >= min_delta = 0.0. New best score: 1.535\n"
     ]
    },
    {
     "name": "stdout",
     "output_type": "stream",
     "text": [
      "Epoch 6: 100%|██████████| 41/41 [03:51<00:00,  5.65s/it, loss=5.3, v_num=top1]"
     ]
    },
    {
     "name": "stderr",
     "output_type": "stream",
     "text": [
      "Epoch 6, global step 259: 'avg_val_loss' reached 1.53509 (best 1.53509), saving model to '/home/dennis/Desktop/Visual_QA_deep_learning/models/ViLT_ex7_with_type_humanlike1_top1-epoch=06-avg_val_loss=1.5351.ckpt' as top 1\n"
     ]
    },
    {
     "name": "stdout",
     "output_type": "stream",
     "text": [
      "Epoch 7: 100%|██████████| 41/41 [04:04<00:00,  5.97s/it, loss=5.26, v_num=top1]"
     ]
    },
    {
     "name": "stderr",
     "output_type": "stream",
     "text": [
      "Metric avg_val_loss improved by 0.048 >= min_delta = 0.0. New best score: 1.487\n"
     ]
    },
    {
     "name": "stdout",
     "output_type": "stream",
     "text": [
      "Epoch 7: 100%|██████████| 41/41 [04:04<00:00,  5.97s/it, loss=5.26, v_num=top1]"
     ]
    },
    {
     "name": "stderr",
     "output_type": "stream",
     "text": [
      "Epoch 7, global step 296: 'avg_val_loss' reached 1.48738 (best 1.48738), saving model to '/home/dennis/Desktop/Visual_QA_deep_learning/models/ViLT_ex7_with_type_humanlike1_top1-epoch=07-avg_val_loss=1.4874.ckpt' as top 1\n"
     ]
    },
    {
     "name": "stdout",
     "output_type": "stream",
     "text": [
      "Epoch 8: 100%|██████████| 41/41 [04:04<00:00,  5.96s/it, loss=5.07, v_num=top1]"
     ]
    },
    {
     "name": "stderr",
     "output_type": "stream",
     "text": [
      "Metric avg_val_loss improved by 0.037 >= min_delta = 0.0. New best score: 1.451\n"
     ]
    },
    {
     "name": "stdout",
     "output_type": "stream",
     "text": [
      "Epoch 8: 100%|██████████| 41/41 [04:04<00:00,  5.96s/it, loss=5.07, v_num=top1]"
     ]
    },
    {
     "name": "stderr",
     "output_type": "stream",
     "text": [
      "Epoch 8, global step 333: 'avg_val_loss' reached 1.45057 (best 1.45057), saving model to '/home/dennis/Desktop/Visual_QA_deep_learning/models/ViLT_ex7_with_type_humanlike1_top1-epoch=08-avg_val_loss=1.4506.ckpt' as top 1\n"
     ]
    },
    {
     "name": "stdout",
     "output_type": "stream",
     "text": [
      "Epoch 9: 100%|██████████| 41/41 [04:02<00:00,  5.92s/it, loss=5.02, v_num=top1]"
     ]
    },
    {
     "name": "stderr",
     "output_type": "stream",
     "text": [
      "Metric avg_val_loss improved by 0.055 >= min_delta = 0.0. New best score: 1.395\n"
     ]
    },
    {
     "name": "stdout",
     "output_type": "stream",
     "text": [
      "Epoch 9: 100%|██████████| 41/41 [04:02<00:00,  5.92s/it, loss=5.02, v_num=top1]"
     ]
    },
    {
     "name": "stderr",
     "output_type": "stream",
     "text": [
      "Epoch 9, global step 370: 'avg_val_loss' reached 1.39519 (best 1.39519), saving model to '/home/dennis/Desktop/Visual_QA_deep_learning/models/ViLT_ex7_with_type_humanlike1_top1-epoch=09-avg_val_loss=1.3952.ckpt' as top 1\n"
     ]
    },
    {
     "name": "stdout",
     "output_type": "stream",
     "text": [
      "Epoch 10: 100%|██████████| 41/41 [04:02<00:00,  5.92s/it, loss=4.78, v_num=top1]"
     ]
    },
    {
     "name": "stderr",
     "output_type": "stream",
     "text": [
      "Epoch 10, global step 407: 'avg_val_loss' was not in top 1\n"
     ]
    },
    {
     "name": "stdout",
     "output_type": "stream",
     "text": [
      "Epoch 11: 100%|██████████| 41/41 [04:02<00:00,  5.92s/it, loss=4.77, v_num=top1]"
     ]
    },
    {
     "name": "stderr",
     "output_type": "stream",
     "text": [
      "Metric avg_val_loss improved by 0.084 >= min_delta = 0.0. New best score: 1.311\n"
     ]
    },
    {
     "name": "stdout",
     "output_type": "stream",
     "text": [
      "Epoch 11: 100%|██████████| 41/41 [04:02<00:00,  5.92s/it, loss=4.77, v_num=top1]"
     ]
    },
    {
     "name": "stderr",
     "output_type": "stream",
     "text": [
      "Epoch 11, global step 444: 'avg_val_loss' reached 1.31104 (best 1.31104), saving model to '/home/dennis/Desktop/Visual_QA_deep_learning/models/ViLT_ex7_with_type_humanlike1_top1-epoch=11-avg_val_loss=1.3110.ckpt' as top 1\n"
     ]
    },
    {
     "name": "stdout",
     "output_type": "stream",
     "text": [
      "Epoch 12: 100%|██████████| 41/41 [04:04<00:00,  5.96s/it, loss=4.84, v_num=top1]"
     ]
    },
    {
     "name": "stderr",
     "output_type": "stream",
     "text": [
      "Epoch 12, global step 481: 'avg_val_loss' was not in top 1\n"
     ]
    },
    {
     "name": "stdout",
     "output_type": "stream",
     "text": [
      "Epoch 13: 100%|██████████| 41/41 [04:03<00:00,  5.94s/it, loss=4.84, v_num=top1]"
     ]
    },
    {
     "name": "stderr",
     "output_type": "stream",
     "text": [
      "Metric avg_val_loss improved by 0.002 >= min_delta = 0.0. New best score: 1.309\n"
     ]
    },
    {
     "name": "stdout",
     "output_type": "stream",
     "text": [
      "Epoch 13: 100%|██████████| 41/41 [04:03<00:00,  5.94s/it, loss=4.84, v_num=top1]"
     ]
    },
    {
     "name": "stderr",
     "output_type": "stream",
     "text": [
      "Epoch 13, global step 518: 'avg_val_loss' reached 1.30918 (best 1.30918), saving model to '/home/dennis/Desktop/Visual_QA_deep_learning/models/ViLT_ex7_with_type_humanlike1_top1-epoch=13-avg_val_loss=1.3092.ckpt' as top 1\n"
     ]
    },
    {
     "name": "stdout",
     "output_type": "stream",
     "text": [
      "Epoch 14: 100%|██████████| 41/41 [04:03<00:00,  5.94s/it, loss=4.42, v_num=top1]"
     ]
    },
    {
     "name": "stderr",
     "output_type": "stream",
     "text": [
      "Epoch 14, global step 555: 'avg_val_loss' was not in top 1\n"
     ]
    },
    {
     "name": "stdout",
     "output_type": "stream",
     "text": [
      "Epoch 15: 100%|██████████| 41/41 [04:03<00:00,  5.95s/it, loss=4.18, v_num=top1]"
     ]
    },
    {
     "name": "stderr",
     "output_type": "stream",
     "text": [
      "Epoch 15, global step 592: 'avg_val_loss' was not in top 1\n"
     ]
    },
    {
     "name": "stdout",
     "output_type": "stream",
     "text": [
      "Epoch 16: 100%|██████████| 41/41 [04:04<00:00,  5.97s/it, loss=3.84, v_num=top1]"
     ]
    },
    {
     "name": "stderr",
     "output_type": "stream",
     "text": [
      "Epoch 16, global step 629: 'avg_val_loss' was not in top 1\n"
     ]
    },
    {
     "name": "stdout",
     "output_type": "stream",
     "text": [
      "Epoch 17: 100%|██████████| 41/41 [04:04<00:00,  5.96s/it, loss=3.36, v_num=top1]"
     ]
    },
    {
     "name": "stderr",
     "output_type": "stream",
     "text": [
      "Metric avg_val_loss improved by 0.033 >= min_delta = 0.0. New best score: 1.277\n"
     ]
    },
    {
     "name": "stdout",
     "output_type": "stream",
     "text": [
      "Epoch 17: 100%|██████████| 41/41 [04:04<00:00,  5.96s/it, loss=3.36, v_num=top1]"
     ]
    },
    {
     "name": "stderr",
     "output_type": "stream",
     "text": [
      "Epoch 17, global step 666: 'avg_val_loss' reached 1.27665 (best 1.27665), saving model to '/home/dennis/Desktop/Visual_QA_deep_learning/models/ViLT_ex7_with_type_humanlike1_top1-epoch=17-avg_val_loss=1.2766.ckpt' as top 1\n"
     ]
    },
    {
     "name": "stdout",
     "output_type": "stream",
     "text": [
      "Epoch 18:  88%|████████▊ | 36/41 [03:45<00:31,  6.26s/it, loss=3.28, v_num=top1]our training is considered complete for this batch\n",
      "Epoch 18:  90%|█████████ | 37/41 [03:46<00:24,  6.13s/it, loss=3.28, v_num=top1]"
     ]
    },
    {
     "name": "stderr",
     "output_type": "stream",
     "text": [
      "/home/dennis/Applications/anaconda3/envs/dlp/lib/python3.9/site-packages/pytorch_lightning/loops/optimization/optimizer_loop.py:137: UserWarning: `training_step` returned `None`. If this was on purpose, ignore this warning...\n",
      "  self.warning_cache.warn(\"`training_step` returned `None`. If this was on purpose, ignore this warning...\")\n"
     ]
    },
    {
     "name": "stdout",
     "output_type": "stream",
     "text": [
      "Epoch 18: 100%|██████████| 41/41 [04:05<00:00,  5.99s/it, loss=3.28, v_num=top1]"
     ]
    },
    {
     "name": "stderr",
     "output_type": "stream",
     "text": [
      "Metric avg_val_loss improved by 0.015 >= min_delta = 0.0. New best score: 1.261\n"
     ]
    },
    {
     "name": "stdout",
     "output_type": "stream",
     "text": [
      "Epoch 18: 100%|██████████| 41/41 [04:05<00:00,  5.99s/it, loss=3.28, v_num=top1]"
     ]
    },
    {
     "name": "stderr",
     "output_type": "stream",
     "text": [
      "Epoch 18, global step 703: 'avg_val_loss' reached 1.26123 (best 1.26123), saving model to '/home/dennis/Desktop/Visual_QA_deep_learning/models/ViLT_ex7_with_type_humanlike1_top1-epoch=18-avg_val_loss=1.2612.ckpt' as top 1\n"
     ]
    },
    {
     "name": "stdout",
     "output_type": "stream",
     "text": [
      "Epoch 19: 100%|██████████| 41/41 [04:05<00:00,  5.99s/it, loss=3.2, v_num=top1] "
     ]
    },
    {
     "name": "stderr",
     "output_type": "stream",
     "text": [
      "Epoch 19, global step 740: 'avg_val_loss' was not in top 1\n"
     ]
    },
    {
     "name": "stdout",
     "output_type": "stream",
     "text": [
      "Epoch 20: 100%|██████████| 41/41 [04:04<00:00,  5.96s/it, loss=3.38, v_num=top1]"
     ]
    },
    {
     "name": "stderr",
     "output_type": "stream",
     "text": [
      "Epoch 20, global step 777: 'avg_val_loss' was not in top 1\n"
     ]
    },
    {
     "name": "stdout",
     "output_type": "stream",
     "text": [
      "Epoch 21: 100%|██████████| 41/41 [04:05<00:00,  5.99s/it, loss=3.09, v_num=top1]"
     ]
    },
    {
     "name": "stderr",
     "output_type": "stream",
     "text": [
      "Epoch 21, global step 814: 'avg_val_loss' was not in top 1\n"
     ]
    },
    {
     "name": "stdout",
     "output_type": "stream",
     "text": [
      "Epoch 22: 100%|██████████| 41/41 [04:02<00:00,  5.91s/it, loss=2.79, v_num=top1]"
     ]
    },
    {
     "name": "stderr",
     "output_type": "stream",
     "text": [
      "Epoch 22, global step 851: 'avg_val_loss' was not in top 1\n"
     ]
    },
    {
     "name": "stdout",
     "output_type": "stream",
     "text": [
      "Epoch 23: 100%|██████████| 41/41 [04:04<00:00,  5.97s/it, loss=2.91, v_num=top1]"
     ]
    },
    {
     "name": "stderr",
     "output_type": "stream",
     "text": [
      "Epoch 23, global step 888: 'avg_val_loss' was not in top 1\n"
     ]
    },
    {
     "name": "stdout",
     "output_type": "stream",
     "text": [
      "Epoch 24: 100%|██████████| 41/41 [04:06<00:00,  6.01s/it, loss=2.7, v_num=top1] "
     ]
    },
    {
     "name": "stderr",
     "output_type": "stream",
     "text": [
      "Epoch 24, global step 925: 'avg_val_loss' was not in top 1\n"
     ]
    },
    {
     "name": "stdout",
     "output_type": "stream",
     "text": [
      "Epoch 25: 100%|██████████| 41/41 [04:06<00:00,  6.01s/it, loss=3.08, v_num=top1]"
     ]
    },
    {
     "name": "stderr",
     "output_type": "stream",
     "text": [
      "Epoch 25, global step 962: 'avg_val_loss' was not in top 1\n"
     ]
    },
    {
     "name": "stdout",
     "output_type": "stream",
     "text": [
      "Epoch 26: 100%|██████████| 41/41 [04:04<00:00,  5.96s/it, loss=2.75, v_num=top1]"
     ]
    },
    {
     "name": "stderr",
     "output_type": "stream",
     "text": [
      "Monitored metric avg_val_loss did not improve in the last 8 records. Best score: 1.261. Signaling Trainer to stop.\n"
     ]
    },
    {
     "name": "stdout",
     "output_type": "stream",
     "text": [
      "Epoch 26: 100%|██████████| 41/41 [04:04<00:00,  5.96s/it, loss=2.75, v_num=top1]"
     ]
    },
    {
     "name": "stderr",
     "output_type": "stream",
     "text": [
      "Epoch 26, global step 999: 'avg_val_loss' was not in top 1\n"
     ]
    },
    {
     "name": "stdout",
     "output_type": "stream",
     "text": [
      "Epoch 26: 100%|██████████| 41/41 [04:04<00:00,  5.96s/it, loss=2.75, v_num=top1]\n"
     ]
    }
   ],
   "source": [
    "hparams2 = asdict(HParams2())\n",
    "hparams2[\"prediction_strategy_top\"] = 1 # choose the number of k to use a top-k prediction method\n",
    "hparams2[\"embedding_strategy\"] = \"with_type\" # choose between \"simple\" and \"with_type\"\n",
    "hparams2[\"loss_strategy\"] = \"human_like1\" # choose between \"simple\" and \"human_like1\" and \"human_like2\"\n",
    "data2 = VQA_DataModule2(hparams2, train_VQA, val_VQA, av_w2id, av_id2w)\n",
    "model_vilt = VQA_ViLT(hparams2)\n",
    "experiment_name = \"ViLT\"\n",
    "log_version = \"ex7_with_type_humanlike1_top1\"\n",
    "logger = CSVLogger(\"logs\", name=experiment_name, version=log_version)\n",
    "epochs = 100\n",
    "# we monitor and track avg_val_loss to save the best model and apply EarlyStopping\n",
    "metric_to_monitor = \"avg_val_loss\"\n",
    "mode = \"min\"  # you want to maximixe or minimize the metric?\n",
    "early_stop_callback = EarlyStopping(\n",
    "    monitor=metric_to_monitor, mode=mode, min_delta=0.00, patience=8, verbose=True)\n",
    "checkpoint_callback = ModelCheckpoint(\n",
    "    save_top_k=1,\n",
    "    monitor=metric_to_monitor,\n",
    "    mode=mode,\n",
    "    dirpath=\"models\",\n",
    "    filename=experiment_name+\"_\"+log_version+\"-{epoch:02d}-{avg_val_loss:.4f}\",\n",
    "    verbose=True\n",
    ")\n",
    "# the trainer collect all the useful informations so far for the training\n",
    "n_gpus = 1 if torch.cuda.is_available() else 0\n",
    "trainer_vilt = pl.Trainer(logger=logger,\n",
    "                     max_epochs=epochs,\n",
    "                     log_every_n_steps=1,\n",
    "                     gpus=n_gpus,\n",
    "                     callbacks=[early_stop_callback, checkpoint_callback],\n",
    "                     num_sanity_val_steps=0)\n",
    "trainer_vilt.fit(model_vilt,data2)"
   ]
  },
  {
   "cell_type": "code",
   "execution_count": 50,
   "metadata": {},
   "outputs": [
    {
     "name": "stderr",
     "output_type": "stream",
     "text": [
      "Some weights of the model checkpoint at dandelin/vilt-b32-finetuned-vqa were not used when initializing ViltModel: ['classifier.3.bias', 'classifier.0.bias', 'classifier.3.weight', 'classifier.0.weight', 'classifier.1.weight', 'classifier.1.bias']\n",
      "- This IS expected if you are initializing ViltModel from the checkpoint of a model trained on another task or with another architecture (e.g. initializing a BertForSequenceClassification model from a BertForPreTraining model).\n",
      "- This IS NOT expected if you are initializing ViltModel from the checkpoint of a model that you expect to be exactly identical (initializing a BertForSequenceClassification model from a BertForSequenceClassification model).\n",
      "100%|██████████| 4/4 [00:22<00:00,  5.53s/it]\n"
     ]
    },
    {
     "name": "stdout",
     "output_type": "stream",
     "text": [
      "There are: (type, number)\n",
      "other 465\n",
      "with score: 0.5046594982078856\n",
      "yes/no 412\n",
      "with score: 0.9061488673139159\n",
      "number 123\n",
      "with score: 0.5230352303523037\n",
      "Final score: 0.6723333333333334\n"
     ]
    }
   ],
   "source": [
    "best_ckpt = \"models/ViLT_ex7_with_type_humanlike1_top1-epoch=18-avg_val_loss=1.2612.ckpt\"\n",
    "model_vilt = VQA_ViLT.load_from_checkpoint(best_ckpt, strict=True)\n",
    "ans_types2, scores2 = evaluate_performances(model_vilt, data2, on_train_set=False, need_device= False)\n"
   ]
  },
  {
   "cell_type": "code",
   "execution_count": 33,
   "metadata": {},
   "outputs": [
    {
     "name": "stderr",
     "output_type": "stream",
     "text": [
      "100%|██████████| 4/4 [00:20<00:00,  5.18s/it]\n"
     ]
    },
    {
     "name": "stdout",
     "output_type": "stream",
     "text": [
      "There are: (type, number)\n",
      "other 465\n",
      "with score: 0.4931899641577061\n",
      "yes/no 412\n",
      "with score: 0.9061488673139159\n",
      "number 123\n",
      "with score: 0.5365853658536587\n",
      "Final score: 0.6686666666666666\n"
     ]
    }
   ],
   "source": [
    "ans_types2, scores2 = evaluate_performances(model_vilt, data2, on_train_set=False, need_device= False)\n",
    "# if you repeat this on the train set you got the astonishing result of 95.93%"
   ]
  },
  {
   "cell_type": "code",
   "execution_count": 25,
   "metadata": {},
   "outputs": [
    {
     "data": {
      "image/png": "[encoded data removed]",
      "text/plain": [
       "<Figure size 432x288 with 1 Axes>"
      ]
     },
     "metadata": {
      "needs_background": "light"
     },
     "output_type": "display_data"
    },
    {
     "name": "stdout",
     "output_type": "stream",
     "text": [
      "QUESTION\n",
      "what is this photo taken looking through\n",
      "MOST COMMON ANSWER\n",
      "net\n",
      "PREDICTED ANSWER\n",
      "net\n"
     ]
    },
    {
     "data": {
      "image/png": "[encoded data removed]",
      "text/plain": [
       "<Figure size 432x288 with 1 Axes>"
      ]
     },
     "metadata": {
      "needs_background": "light"
     },
     "output_type": "display_data"
    },
    {
     "name": "stdout",
     "output_type": "stream",
     "text": [
      "QUESTION\n",
      "how many people are standing next to each other\n",
      "MOST COMMON ANSWER\n",
      "4\n",
      "PREDICTED ANSWER\n",
      "4\n"
     ]
    }
   ],
   "source": [
    "print_item_pred(data2, model_vilt, [131366000,458752000], on_train_set=True, need_device= False)"
   ]
  },
  {
   "cell_type": "markdown",
   "metadata": {},
   "source": [
    "<img src='https://mistercode.it/wp-content/uploads/2022/05/to-do-g0a679a023_1280.png' width=\"200\" height=\"100\" > ALL THE EXPERIMENTS COLLECTED IN A TABLE AND DISCUSSION ABOUT THESE"
   ]
  },
  {
   "cell_type": "code",
   "execution_count": 56,
   "metadata": {},
   "outputs": [
    {
     "data": {
      "image/png": "[encoded data removed]",
      "text/plain": [
       "<Figure size 720x720 with 1 Axes>"
      ]
     },
     "metadata": {
      "needs_background": "light"
     },
     "output_type": "display_data"
    },
    {
     "data": {
      "image/png": "[encoded data removed]",
      "text/plain": [
       "<Figure size 720x720 with 1 Axes>"
      ]
     },
     "metadata": {
      "needs_background": "light"
     },
     "output_type": "display_data"
    }
   ],
   "source": [
    "models_name = [\n",
    "    \"baseline/0\", \"baseline/bi-lstm\", \"ViLT/ex1_verysimple\",\n",
    "    \"ViLT/ex2_simple_withtype\", \"ViLT/ex3_simple_humanlike1\", \"ViLT/ex4_simple_humanlike2\",\n",
    "    \"ViLT/ex5_simple_top5\",\"ViLT/ex6_with_type_humanlike1_top5\" ,\"ViLT/ex7_with_type_humanlike1_top1\"]\n",
    "metrics = [\"loss\", \"avg_val_loss\"]\n",
    "md = plot_multiple(metrics, models_name)\n"
   ]
  }
 ],
 "metadata": {
  "kernelspec": {
   "display_name": "Python 3.9.12 ('dlp')",
   "language": "python",
   "name": "python3"
  },
  "language_info": {
   "codemirror_mode": {
    "name": "ipython",
    "version": 3
   },
   "file_extension": ".py",
   "mimetype": "text/x-python",
   "name": "python",
   "nbconvert_exporter": "python",
   "pygments_lexer": "ipython3",
   "version": "3.9.12"
  },
  "orig_nbformat": 4,
  "vscode": {
   "interpreter": {
    "hash": "47190f7cb2772d39fc79edc4ccd16e1d5aa2f435aeaf1de6cf1f85c03f1e696f"
   }
  }
 },
 "nbformat": 4,
 "nbformat_minor": 2
}
